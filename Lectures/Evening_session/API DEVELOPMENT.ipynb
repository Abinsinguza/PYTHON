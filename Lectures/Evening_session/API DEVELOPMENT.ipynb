{
 "cells": [
  {
   "cell_type": "code",
   "execution_count": 9,
   "id": "1e277be2-7a30-49f6-8453-6a3974dcc35c",
   "metadata": {},
   "outputs": [
    {
     "name": "stdout",
     "output_type": "stream",
     "text": [
      "200\n"
     ]
    }
   ],
   "source": [
    "#API DEVELOPMENT\n",
    "\n",
    "import requests\n",
    "import json \n",
    "\n",
    "#def get_stock_data():\n",
    "url = f\"https://www.alphavantage.co/query?function\"\n",
    "response = requests.get(url)\n",
    "print(response.status_code)\n",
    "\n",
    "    # if response.statis_code == 200:\n",
    "    # data = response.json()\n",
    "    # last_refreshed = data[\"Meta"
   ]
  },
  {
   "cell_type": "code",
   "execution_count": null,
   "id": "d795f668-8637-444f-b1f9-00a36ce94b83",
   "metadata": {},
   "outputs": [],
   "source": [
    "#API status codes\n",
    "200  ok\n",
    "201  created\n",
    "204  No content\n",
    "300  Multiple choice\n",
    "302  Found\n",
    "401  unauthorised\n",
    "500  Internal server error\n",
    "502  Bad gateway\n",
    "\n",
    "#REST API\n",
    "\n",
    "Rest in full is representational state transfer\n",
    "\n",
    "Architectural constraints\n",
    "\n",
    "stateless - \n",
    "\n",
    "client server\n",
    "\n",
    "cacheable\n",
    "\n",
    "uniform interface\n",
    "\n",
    "layered system\n",
    "\n",
    "code on demand (\n",
    "\n"
   ]
  }
 ],
 "metadata": {
  "kernelspec": {
   "display_name": "Python 3 (ipykernel)",
   "language": "python",
   "name": "python3"
  },
  "language_info": {
   "codemirror_mode": {
    "name": "ipython",
    "version": 3
   },
   "file_extension": ".py",
   "mimetype": "text/x-python",
   "name": "python",
   "nbconvert_exporter": "python",
   "pygments_lexer": "ipython3",
   "version": "3.11.7"
  }
 },
 "nbformat": 4,
 "nbformat_minor": 5
}
