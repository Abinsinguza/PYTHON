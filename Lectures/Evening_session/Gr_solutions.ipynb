{
 "cells": [
  {
   "cell_type": "code",
   "execution_count": 26,
   "metadata": {},
   "outputs": [
    {
     "name": "stdout",
     "output_type": "stream",
     "text": [
      "   Duration         Date  Pulse  Maxpulse  Calories\n",
      "0        60  2023/10/01'  110.0     130.0     409.1\n",
      "1        60  2023/10/02'  117.0     145.0     479.0\n",
      "2        60  2023/10/03'  103.0     135.0     340.3\n",
      "3        45  2023/10/04'  109.0     175.0     282.4\n",
      "4        45  2023/10/05'  117.0     150.0     405.1\n"
     ]
    }
   ],
   "source": [
    "import pandas as pd\n",
    "\n",
    "# Load the datasets\n",
    "mine_df = pd.read_csv(\"Mine.csv\")\n",
    "\n",
    "print(mine_df.head(5))\n"
   ]
  },
  {
   "cell_type": "code",
   "execution_count": 28,
   "metadata": {},
   "outputs": [
    {
     "name": "stdout",
     "output_type": "stream",
     "text": [
      "Duration    0\n",
      "Date        2\n",
      "Pulse       1\n",
      "Maxpulse    2\n",
      "Calories    4\n",
      "dtype: int64\n"
     ]
    }
   ],
   "source": [
    "# Missing values / Empty cells\n",
    "# check for missing values\n",
    "print(mine_df.isnull().sum())\n"
   ]
  },
  {
   "cell_type": "code",
   "execution_count": 8,
   "metadata": {},
   "outputs": [
    {
     "name": "stdout",
     "output_type": "stream",
     "text": [
      "    Duration         Date  Pulse  Maxpulse  Calories\n",
      "0         60  2023/10/01'  110.0     130.0     409.1\n",
      "1         60  2023/10/02'  117.0     145.0     479.0\n",
      "2         60  2023/10/03'  103.0     135.0     340.3\n",
      "3         45  2023/10/04'  109.0     175.0     282.4\n",
      "4         45  2023/10/05'  117.0     150.0     405.1\n",
      "5         60  2023/10/06'  103.0     125.0     300.0\n",
      "6         60  2023/10/07'  110.0     135.0     374.0\n",
      "7        400  2023/10/08'  114.0     133.0     240.8\n",
      "8         60  2023/10/09'  112.0     126.0     193.8\n",
      "9         30  2023/10/10'  102.0     147.0     234.8\n",
      "10        60  2023/10/11'  100.0     129.0     375.3\n",
      "11        60  2023/10/12'  109.0     131.0     345.6\n",
      "12        60  2023/10/13'  103.0     136.0     239.2\n",
      "13        60  2023/10/15'  120.0     125.0     240.8\n",
      "14        60  2023/10/15'  120.0     100.0     240.8\n",
      "15        60  2023/10/16'  103.0     101.0     243.8\n",
      "16        60  2023/10/17'  127.0     102.0     380.2\n",
      "17        45     20231018  142.0     103.0     241.4\n",
      "18        60  2023/10/19'  151.0     104.0     240.8\n",
      "19        60  2023/10/20'  162.0     105.0     300.9\n",
      "20        60  2023/10/21'  100.0     106.0     280.0\n",
      "21        60  2023/10/22'  103.0     107.0     240.8\n",
      "22        60  2023/10/15'  130.0     108.0     230.8\n",
      "23        60  2023/10/24'  134.0     125.0     239.7\n",
      "24        60  2023/10/25'  132.0     110.0     236.9\n",
      "25        60  2023/10/26'  135.0     118.0     278.8\n",
      "26        60  2023/10/27'  137.0     119.0     212.9\n",
      "27        60  2023/10/28'  138.0     121.0     345.9\n",
      "28        60  2023/10/29'  139.0     122.0     345.2\n",
      "29        60  2023/10/15'   92.0     125.0     380.5\n",
      "30        60  2023/10/31'   94.0     126.0     240.8\n",
      "\n"
     ]
    }
   ],
   "source": [
    "# Handling missing values\n",
    "#get the mode of each column and store it in a dictionary\n",
    "mode_values = {col: mine_df[col].mode()[0] for col in mine_df.columns}\n",
    "\n",
    "# Fill NaN values with the mode of each column\n",
    "mine_df.fillna(mode_values, inplace=True)\n",
    "\n",
    "print(mine_df)\n",
    "\n",
    "print()\n"
   ]
  },
  {
   "cell_type": "code",
   "execution_count": 10,
   "metadata": {},
   "outputs": [
    {
     "name": "stdout",
     "output_type": "stream",
     "text": [
      "    Duration       Date  Pulse  Maxpulse  Calories\n",
      "0         60 2023-10-01  110.0     130.0     409.1\n",
      "1         60 2023-10-02  117.0     145.0     479.0\n",
      "2         60 2023-10-03  103.0     135.0     340.3\n",
      "3         45 2023-10-04  109.0     175.0     282.4\n",
      "4         45 2023-10-05  117.0     150.0     405.1\n",
      "5         60 2023-10-06  103.0     125.0     300.0\n",
      "6         60 2023-10-07  110.0     135.0     374.0\n",
      "7        400 2023-10-08  114.0     133.0     240.8\n",
      "8         60 2023-10-09  112.0     126.0     193.8\n",
      "9         30 2023-10-10  102.0     147.0     234.8\n",
      "10        60 2023-10-11  100.0     129.0     375.3\n",
      "11        60 2023-10-12  109.0     131.0     345.6\n",
      "12        60 2023-10-13  103.0     136.0     239.2\n",
      "13        60 2023-10-15  120.0     125.0     240.8\n",
      "14        60 2023-10-15  120.0     100.0     240.8\n",
      "15        60 2023-10-16  103.0     101.0     243.8\n",
      "16        60 2023-10-17  127.0     102.0     380.2\n",
      "17        45 2023-10-18  142.0     103.0     241.4\n",
      "18        60 2023-10-19  151.0     104.0     240.8\n",
      "19        60 2023-10-20  162.0     105.0     300.9\n",
      "20        60 2023-10-21  100.0     106.0     280.0\n",
      "21        60 2023-10-22  103.0     107.0     240.8\n",
      "22        60 2023-10-15  130.0     108.0     230.8\n",
      "23        60 2023-10-24  134.0     125.0     239.7\n",
      "24        60 2023-10-25  132.0     110.0     236.9\n",
      "25        60 2023-10-26  135.0     118.0     278.8\n",
      "26        60 2023-10-27  137.0     119.0     212.9\n",
      "27        60 2023-10-28  138.0     121.0     345.9\n",
      "28        60 2023-10-29  139.0     122.0     345.2\n",
      "29        60 2023-10-15   92.0     125.0     380.5\n",
      "30        60 2023-10-31   94.0     126.0     240.8\n"
     ]
    }
   ],
   "source": [
    "# 2. Handling Inconsistent date formats\n",
    "\n",
    "from datetime import datetime\n",
    "\n",
    "def convert_dates(df):\n",
    "    current_date = datetime.now().date()\n",
    "    for col in df.columns:\n",
    "        if 'date' in col.lower():\n",
    "            df[col] = df[col].fillna(current_date).apply(lambda x: pd.to_datetime(x, errors='coerce'))\n",
    "\n",
    "\n",
    "convert_dates(mine_df)\n",
    "\n",
    "\n",
    "print(mine_df.to_string())\n"
   ]
  },
  {
   "cell_type": "code",
   "execution_count": 32,
   "metadata": {},
   "outputs": [
    {
     "name": "stdout",
     "output_type": "stream",
     "text": [
      "Empty DataFrame\n",
      "Columns: [Duration, Date, Pulse, Maxpulse, Calories]\n",
      "Index: []\n"
     ]
    }
   ],
   "source": [
    "# 3.  Duplicate rows.\n",
    "\n",
    "# Check for duplicate rows\n",
    "# duplicate_rows = df.duplicated()\n",
    "duplicate_rows = mine_df.duplicated()\n",
    "\n",
    "\n",
    "print(mine_df[duplicate_rows])\n",
    "\n",
    "# Handling duplicate rows\n",
    "#Drop duplicate rows\n",
    "\n",
    "#mine_df.drop_duplicates(inplace=True)\n",
    "\n"
   ]
  },
  {
   "cell_type": "code",
   "execution_count": 16,
   "metadata": {},
   "outputs": [
    {
     "name": "stdout",
     "output_type": "stream",
     "text": [
      "    Duration       Date  Pulse  Maxpulse  Calories\n",
      "0         60 2023-10-01  110.0     130.0     409.1\n",
      "1         60 2023-10-02  117.0     145.0     479.0\n",
      "2         60 2023-10-03  103.0     135.0     340.3\n",
      "3         45 2023-10-04  109.0     175.0     282.4\n",
      "4         45 2023-10-05  117.0     150.0     405.1\n",
      "5         60 2023-10-06  103.0     125.0     300.0\n",
      "6         60 2023-10-07  110.0     135.0     374.0\n",
      "7        400 2023-10-08  114.0     133.0     240.8\n",
      "8         60 2023-10-09  112.0     126.0     193.8\n",
      "9         30 2023-10-10  102.0     147.0     234.8\n",
      "10        60 2023-10-11  100.0     129.0     375.3\n",
      "11        60 2023-10-12  109.0     131.0     345.6\n",
      "12        60 2023-10-13  103.0     136.0     239.2\n",
      "13        60 2023-10-15  120.0     125.0     240.8\n",
      "14        60 2023-10-15  120.0     100.0     240.8\n",
      "15        60 2023-10-16  103.0     101.0     243.8\n",
      "16        60 2023-10-17  127.0     102.0     380.2\n",
      "17        45 2023-10-18  142.0     103.0     241.4\n",
      "18        60 2023-10-19  151.0     104.0     240.8\n",
      "19        60 2023-10-20  162.0     105.0     300.9\n",
      "20        60 2023-10-21  100.0     106.0     280.0\n",
      "21        60 2023-10-22  103.0     107.0     240.8\n",
      "22        60 2023-10-15  130.0     108.0     230.8\n",
      "23        60 2023-10-24  134.0     125.0     239.7\n",
      "24        60 2023-10-25  132.0     110.0     236.9\n",
      "25        60 2023-10-26  135.0     118.0     278.8\n",
      "26        60 2023-10-27  137.0     119.0     212.9\n",
      "27        60 2023-10-28  138.0     121.0     345.9\n",
      "28        60 2023-10-29  139.0     122.0     345.2\n",
      "29        60 2023-10-15   92.0     125.0     380.5\n",
      "30        60 2023-10-31   94.0     126.0     240.8\n"
     ]
    }
   ],
   "source": [
    "# 4. Handle wrong Data\n",
    "\n",
    "# Replace negative values in numerical columns with column mean\n",
    "\n",
    "def negatives_rep(df):\n",
    "    for col in df.select_dtypes(include=['float64', 'int64']).columns:\n",
    "        mean_value = df[col][df[col] >= 0].mean()\n",
    "        df[col] = df[col].apply(lambda x: mean_value if x < 0 else x)\n",
    "\n",
    "negatives_rep(mine_df)\n",
    "\n",
    "\n",
    "print(mine_df)\n"
   ]
  },
  {
   "cell_type": "code",
   "execution_count": 18,
   "metadata": {},
   "outputs": [
    {
     "name": "stdout",
     "output_type": "stream",
     "text": [
      "Duration    0\n",
      "Date        0\n",
      "Pulse       0\n",
      "Maxpulse    0\n",
      "Calories    0\n",
      "dtype: int64\n"
     ]
    }
   ],
   "source": [
    "print(mine_df.isnull().sum())\n"
   ]
  },
  {
   "cell_type": "code",
   "execution_count": 24,
   "metadata": {},
   "outputs": [],
   "source": [
    "# Save cleaned datasets to new CSV files\n",
    "mine_df.to_csv('Mine_cleaned.csv', index=False)\n",
    "\n"
   ]
  },
  {
   "cell_type": "code",
   "execution_count": 22,
   "metadata": {},
   "outputs": [
    {
     "name": "stdout",
     "output_type": "stream",
     "text": [
      "    Duration        Date  Pulse  Maxpulse  Calories\n",
      "0         60  2023-10-01  110.0     130.0     409.1\n",
      "1         60  2023-10-02  117.0     145.0     479.0\n",
      "2         60  2023-10-03  103.0     135.0     340.3\n",
      "3         45  2023-10-04  109.0     175.0     282.4\n",
      "4         45  2023-10-05  117.0     150.0     405.1\n",
      "5         60  2023-10-06  103.0     125.0     300.0\n",
      "6         60  2023-10-07  110.0     135.0     374.0\n",
      "7        400  2023-10-08  114.0     133.0     240.8\n",
      "8         60  2023-10-09  112.0     126.0     193.8\n",
      "9         30  2023-10-10  102.0     147.0     234.8\n",
      "10        60  2023-10-11  100.0     129.0     375.3\n",
      "11        60  2023-10-12  109.0     131.0     345.6\n",
      "12        60  2023-10-13  103.0     136.0     239.2\n",
      "13        60  2023-10-15  120.0     125.0     240.8\n",
      "14        60  2023-10-15  120.0     100.0     240.8\n",
      "15        60  2023-10-16  103.0     101.0     243.8\n",
      "16        60  2023-10-17  127.0     102.0     380.2\n",
      "17        45  2023-10-18  142.0     103.0     241.4\n",
      "18        60  2023-10-19  151.0     104.0     240.8\n",
      "19        60  2023-10-20  162.0     105.0     300.9\n",
      "20        60  2023-10-21  100.0     106.0     280.0\n",
      "21        60  2023-10-22  103.0     107.0     240.8\n",
      "22        60  2023-10-15  130.0     108.0     230.8\n",
      "23        60  2023-10-24  134.0     125.0     239.7\n",
      "24        60  2023-10-25  132.0     110.0     236.9\n",
      "25        60  2023-10-26  135.0     118.0     278.8\n",
      "26        60  2023-10-27  137.0     119.0     212.9\n",
      "27        60  2023-10-28  138.0     121.0     345.9\n",
      "28        60  2023-10-29  139.0     122.0     345.2\n",
      "29        60  2023-10-15   92.0     125.0     380.5\n",
      "30        60  2023-10-31   94.0     126.0     240.8\n"
     ]
    }
   ],
   "source": [
    "# Output the cleaned datasets\n",
    "mine_df_cleaned = pd.read_csv('Mine_cleaned.csv')\n",
    "\n",
    "mine_df_cleaned.head()\n",
    "\n",
    "print(mine_df_cleaned)\n"
   ]
  },
  {
   "cell_type": "code",
   "execution_count": null,
   "metadata": {},
   "outputs": [],
   "source": []
  }
 ],
 "metadata": {
  "kernelspec": {
   "display_name": "Python 3 (ipykernel)",
   "language": "python",
   "name": "python3"
  },
  "language_info": {
   "codemirror_mode": {
    "name": "ipython",
    "version": 3
   },
   "file_extension": ".py",
   "mimetype": "text/x-python",
   "name": "python",
   "nbconvert_exporter": "python",
   "pygments_lexer": "ipython3",
   "version": "3.11.7"
  }
 },
 "nbformat": 4,
 "nbformat_minor": 4
}
