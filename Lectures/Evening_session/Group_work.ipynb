{
 "cells": [
  {
   "cell_type": "code",
   "execution_count": 20,
   "id": "23b9ed10-0604-4db7-ac64-38cb168df831",
   "metadata": {},
   "outputs": [],
   "source": [
    "import pandas as pd\n",
    "\n",
    "# Load the datasets\n",
    "mine_df = pd.read_csv(r'Mine.csv')\n",
    "sales_df = pd.read_csv(r'Sales.csv')\n"
   ]
  },
  {
   "cell_type": "code",
   "execution_count": 4,
   "id": "b2d0511c-1151-40cb-9e60-cb0e999da89e",
   "metadata": {},
   "outputs": [],
   "source": [
    "\n",
    "# 1. Remove unnecessary columns\n",
    "# Assuming 'Total Revenue' is unnecessary in Sales dataset\n",
    "if 'Total Revenue' in sales_df.columns:\n",
    "    sales_df.drop(columns=['Total Revenue'], inplace=True)\n"
   ]
  },
  {
   "cell_type": "code",
   "execution_count": 6,
   "id": "bc11b19f-860d-4895-b9d5-0b4d6f55fcc4",
   "metadata": {},
   "outputs": [],
   "source": [
    "\n",
    "# 2. Handle missing values\n",
    "# Fill numerical columns with mean and categorical columns with 'Unknown'\n",
    "mine_df.fillna({\n",
    "    col: mine_df[col].mean() if mine_df[col].dtype in ['float64', 'int64'] else 'Unknown'\n",
    "    for col in mine_df.columns\n",
    "}, inplace=True)\n",
    "\n",
    "sales_df.fillna({\n",
    "    col: sales_df[col].mean() if sales_df[col].dtype in ['float64', 'int64'] else 'Unknown'\n",
    "    for col in sales_df.columns\n",
    "}, inplace=True)\n"
   ]
  },
  {
   "cell_type": "code",
   "execution_count": 8,
   "id": "b79b17fa-42d1-4bfc-a646-6e3c08bf9d01",
   "metadata": {},
   "outputs": [
    {
     "name": "stdout",
     "output_type": "stream",
     "text": [
      "   Order ID  Customer Name Order Date   Product   Quantity  Unit Price\n",
      "0      1001       John Doe 2024-01-01  Widget A  10.000000   25.000000\n",
      "1      1002     Jane Smith 2024-01-02  Widget B   5.000000   40.000000\n",
      "2      1003        Unknown        NaT  Widget A   5.142857   25.000000\n",
      "3      1004  Alice Johnson 2024-04-01  Widget C   3.000000   35.714286\n",
      "4      1005      Bob Brown        NaT  Widget B  10.000000   40.000000\n",
      "5      1006       John Doe 2024-06-01  Widget A   4.000000   25.000000\n",
      "6      1001       John Doe 2024-01-01  Widget A  10.000000   25.000000\n",
      "7      1007     Jane Smith 2024-07-01  Widget C  -6.000000   70.000000\n"
     ]
    }
   ],
   "source": [
    "\n",
    "# 3. Convert date columns to consistent formats\n",
    "for col in mine_df.columns:\n",
    "    if 'date' in col.lower():\n",
    "        mine_df[col] = pd.to_datetime(mine_df[col], errors='coerce')\n",
    "\n",
    "for col in sales_df.columns:\n",
    "    if 'date' in col.lower():\n",
    "        sales_df[col] = pd.to_datetime(sales_df[col], errors='coerce')\n",
    "\n",
    "print(sales_df)\n"
   ]
  },
  {
   "cell_type": "code",
   "execution_count": 10,
   "id": "c2e91c21-4b60-4319-a2ec-c0243e9c94a1",
   "metadata": {},
   "outputs": [],
   "source": [
    "\n",
    "# 4. Drop duplicate rows\n",
    "mine_df.drop_duplicates(inplace=True)\n",
    "sales_df.drop_duplicates(inplace=True)"
   ]
  },
  {
   "cell_type": "code",
   "execution_count": 12,
   "id": "7e73505f-e06a-4c6f-881f-17a538efc51a",
   "metadata": {},
   "outputs": [],
   "source": [
    "\n",
    "# 5. Handle wrong data\n",
    "# Replace negative values in numerical columns with column mean\n",
    "def replace_negatives_with_mean(df):\n",
    "    for col in df.select_dtypes(include=['float64', 'int64']).columns:\n",
    "        mean_value = df[col][df[col] >= 0].mean()\n",
    "        df[col] = df[col].apply(lambda x: mean_value if x < 0 else x)\n",
    "\n",
    "replace_negatives_with_mean(mine_df)\n",
    "replace_negatives_with_mean(sales_df)"
   ]
  },
  {
   "cell_type": "code",
   "execution_count": 14,
   "id": "20e73c41-9cbb-46d2-bd4d-c52dc53e320c",
   "metadata": {},
   "outputs": [],
   "source": [
    "# Save cleaned datasets to new CSV files\n",
    "mine_df.to_csv('Mine_cleaned.csv', index=False)\n",
    "sales_df.to_csv('Sales_cleaned.csv', index=False)\n"
   ]
  },
  {
   "cell_type": "code",
   "execution_count": 16,
   "id": "c282a1b2-cf42-47dc-9bc8-8f45a09603c4",
   "metadata": {},
   "outputs": [
    {
     "data": {
      "text/plain": [
       "(   Duration        Date  Pulse  Maxpulse  Calories\n",
       " 0        60  2023-10-01  110.0     130.0     409.1\n",
       " 1        60  2023-10-02  117.0     145.0     479.0\n",
       " 2        60  2023-10-03  103.0     135.0     340.3\n",
       " 3        45  2023-10-04  109.0     175.0     282.4\n",
       " 4        45  2023-10-05  117.0     150.0     405.1,\n",
       "    Order ID  Customer Name  Order Date   Product   Quantity  Unit Price\n",
       " 0      1001       John Doe  2024-01-01  Widget A  10.000000   25.000000\n",
       " 1      1002     Jane Smith  2024-01-02  Widget B   5.000000   40.000000\n",
       " 2      1003        Unknown         NaN  Widget A   5.142857   25.000000\n",
       " 3      1004  Alice Johnson  2024-04-01  Widget C   3.000000   35.714286\n",
       " 4      1005      Bob Brown         NaN  Widget B  10.000000   40.000000)"
      ]
     },
     "execution_count": 16,
     "metadata": {},
     "output_type": "execute_result"
    }
   ],
   "source": [
    "# Output the cleaned datasets\n",
    "mine_df_cleaned = pd.read_csv('Mine_cleaned.csv')\n",
    "sales_df_cleaned = pd.read_csv('Sales_cleaned.csv')\n",
    "\n",
    "mine_df_cleaned.head(), sales_df_cleaned.head()"
   ]
  },
  {
   "cell_type": "code",
   "execution_count": null,
   "id": "3f158e87-c66e-4760-93db-0fb0798f30c7",
   "metadata": {},
   "outputs": [],
   "source": []
  }
 ],
 "metadata": {
  "kernelspec": {
   "display_name": "Python 3 (ipykernel)",
   "language": "python",
   "name": "python3"
  },
  "language_info": {
   "codemirror_mode": {
    "name": "ipython",
    "version": 3
   },
   "file_extension": ".py",
   "mimetype": "text/x-python",
   "name": "python",
   "nbconvert_exporter": "python",
   "pygments_lexer": "ipython3",
   "version": "3.11.7"
  }
 },
 "nbformat": 4,
 "nbformat_minor": 5
}
