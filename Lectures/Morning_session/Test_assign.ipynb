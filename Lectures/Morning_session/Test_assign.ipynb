{
 "cells": [
  {
   "cell_type": "code",
   "execution_count": 19,
   "metadata": {
    "colab": {
     "base_uri": "https://localhost:8080/",
     "height": 349
    },
    "deletable": false,
    "editable": false,
    "executionInfo": {
     "elapsed": 37,
     "status": "error",
     "timestamp": 1711369776511,
     "user": {
      "displayName": "Jeff Geoff",
      "userId": "07242922224712335034"
     },
     "user_tz": -180
    },
    "id": "JVViZmJWlWYm",
    "outputId": "0e6fc0fa-22d1-4825-9da3-6ad4dd30321d",
    "scrolled": true
   },
   "outputs": [
    {
     "name": "stdout",
     "output_type": "stream",
     "text": [
      "5.5.0\n"
     ]
    }
   ],
   "source": [
    "# Initialize Otter\n",
    "import otter \n",
    "grader = otter.Notebook(\"Test_assign.ipynb\")\n",
    "print(otter.__version__)\n"
   ]
  },
  {
   "cell_type": "markdown",
   "metadata": {
    "id": "B1DroRwx3ENZ"
   },
   "source": [
    "## DSA 2024 Summer School Admittance Check\n",
    "\n",
    "Thanks for your interest in attending DSA 2024 Nyeri, Kenya. To attend the summer school you have to have some level of basic Python proficiency. Completing the following notebook should ensure you have the right kind of background to benefit maximally from the Summer School. See you in Nyeri!"
   ]
  },
  {
   "cell_type": "code",
   "execution_count": 80,
   "metadata": {
    "id": "7Upwjh9U3ENa"
   },
   "outputs": [],
   "source": [
    "import pandas as pd\n",
    "import numpy as np\n",
    "%matplotlib inline\n",
    "import otter\n",
    "\n",
    "# #grader = otter.Notebook()\n"
   ]
  },
  {
   "cell_type": "markdown",
   "metadata": {
    "deletable": false,
    "editable": false,
    "id": "6ibmmx8r3ENc"
   },
   "source": [
    "**Question 1:** write a function `isValid(s)` that takes as argument a string s containing a sequence of parenthesis '(', ')', '{', '}', '[' and ']', and  determines if the input is valid. A input string is valid if for every open parenthensis there is a close one and parenthesis is well-formed. e.g  \"(){}[]\" is valid."
   ]
  },
  {
   "cell_type": "code",
   "execution_count": 23,
   "metadata": {
    "id": "CWjGPqaO3ENc",
    "tags": []
   },
   "outputs": [
    {
     "name": "stdout",
     "output_type": "stream",
     "text": [
      "True\n",
      "False\n",
      "False\n"
     ]
    }
   ],
   "source": [
    "def isValid(s: str) -> bool:\n",
    "  \"\"\"\n",
    "  :type s: str\n",
    "  :rtype: bool\n",
    "  \"\"\"\n",
    "  stack = []\n",
    "  mapping = {\")\": \"(\", \"}\": \"{\", \"]\": \"[\"}\n",
    "  for char in s:\n",
    "    if char in mapping:\n",
    "      if not stack or stack.pop() != mapping[char]:\n",
    "        return False\n",
    "    else:\n",
    "      stack.append(char)\n",
    "\n",
    "  return not stack\n",
    "\n",
    "# Test cases\n",
    "print(isValid(\"(){}[]\"))  # True\n",
    "print(isValid(\"([)]\"))  # False\n",
    "print(isValid(\"{\"))  # False"
   ]
  },
  {
   "cell_type": "code",
   "execution_count": 86,
   "metadata": {
    "deletable": false,
    "editable": false,
    "id": "Yi1Xx4UllWYs"
   },
   "outputs": [
    {
     "data": {
      "text/html": [
       "<p><strong><pre style='display: inline;'>q1</pre></strong> passed! 🎉</p>"
      ],
      "text/plain": [
       "q1 results: All test cases passed!"
      ]
     },
     "execution_count": 86,
     "metadata": {},
     "output_type": "execute_result"
    }
   ],
   "source": [
    "grader.check(\"q1\")"
   ]
  },
  {
   "cell_type": "markdown",
   "metadata": {
    "deletable": false,
    "editable": false,
    "id": "ntYqVxEQ3ENd"
   },
   "source": [
    "**Question 2:** Given a paragraph as a string, write a function that return the number of character with odd frequencies. E.g The paragraph ``DSA 2024 Nyeri`` has *10* characters with odd frequencies. i.e the entire frequency count is given as {' ': 2, '2': 2, 'D': 1, 'S': 1, 'A': 1, '0': 1, '4': 1, 'N': 1, 'y': 1, 'e': 1, 'r': 1, 'i': 1}) and there are *10* characters with odd frequences. So the function should return *10*."
   ]
  },
  {
   "cell_type": "code",
   "execution_count": 26,
   "metadata": {
    "id": "LlZ8GC4J3ENe",
    "tags": []
   },
   "outputs": [
    {
     "name": "stdout",
     "output_type": "stream",
     "text": [
      "3\n"
     ]
    }
   ],
   "source": [
    "def oddFrequencyCounter(theParagraph):\n",
    "# Dictionary to store the frequency of each character\n",
    "    frequency = {}\n",
    "    \n",
    "    # Count the frequency of each character in the paragraph\n",
    "    for char in paragraph:\n",
    "        if char in frequency:\n",
    "            frequency[char] += 1\n",
    "        else:\n",
    "            frequency[char] = 1\n",
    "    \n",
    "    # Count the number of characters with odd frequencies\n",
    "    odd_count = 0\n",
    "    for count in frequency.values():\n",
    "        if count % 2 != 0:\n",
    "            odd_count += 1\n",
    "    \n",
    "    return odd_count\n",
    "\n",
    "# Example usage\n",
    "paragraph = \"Hello\"\n",
    "print(oddFrequencyCounter(paragraph))"
   ]
  },
  {
   "cell_type": "code",
   "execution_count": 27,
   "metadata": {
    "deletable": false,
    "editable": false,
    "id": "BhzphhailWYt"
   },
   "outputs": [
    {
     "data": {
      "text/html": [
       "<p><strong><pre style='display: inline;'>q2</pre></strong> passed! 🌈</p>"
      ],
      "text/plain": [
       "q2 results: All test cases passed!"
      ]
     },
     "execution_count": 27,
     "metadata": {},
     "output_type": "execute_result"
    }
   ],
   "source": [
    "grader.check(\"q2\")"
   ]
  },
  {
   "cell_type": "markdown",
   "metadata": {
    "deletable": false,
    "editable": false,
    "id": "UIijW8polWYt"
   },
   "source": [
    "**Question 3:** Write an infinite generator function `odd_squares_sum` that yields the sum of square of odd numbers. e.g $1^2 + 3^2 + 5^2 + ...$ up to a ``limit``"
   ]
  },
  {
   "cell_type": "code",
   "execution_count": 29,
   "metadata": {},
   "outputs": [
    {
     "name": "stdout",
     "output_type": "stream",
     "text": [
      "The sum of squares of odd numbers up to 10 is: 10\n"
     ]
    }
   ],
   "source": [
    "def odd_squares_sum(limit):\n",
    "  \"\"\"\n",
    "  This function calculates the sum of squares of odd numbers up to a specified limit.\n",
    "\n",
    "  Args:\n",
    "      limit: An integer representing the upper limit for the sum.\n",
    "\n",
    "  Returns:\n",
    "      int: The sum of squares of odd numbers up to the limit.\n",
    "  \"\"\"\n",
    "  current_sum = 0\n",
    "  n = 1\n",
    "  while n**2 <= limit:\n",
    "    current_sum += n**2\n",
    "    n += 2\n",
    "  return current_sum\n",
    "\n",
    "# Get the sum of squares of odd numbers up to 10\n",
    "limit = 10\n",
    "result = odd_squares_sum(limit)\n",
    "print(f\"The sum of squares of odd numbers up to {limit} is: {result}\")"
   ]
  },
  {
   "cell_type": "code",
   "execution_count": 30,
   "metadata": {
    "deletable": false,
    "editable": false,
    "id": "40vFKLm4lWYu"
   },
   "outputs": [
    {
     "data": {
      "text/html": [
       "<p><strong style='color: red;'><pre style='display: inline;'>q3</pre> results:</strong></p><p><strong><pre style='display: inline;'>q3 - 1</pre> result:</strong></p><pre>    ❌ Test case failed\n",
       "    Trying:\n",
       "        points: 4\n",
       "    Expecting nothing\n",
       "    ok\n",
       "    Trying:\n",
       "        theGen = odd_squares_sum(12)\n",
       "    Expecting nothing\n",
       "    ok\n",
       "    Trying:\n",
       "        assert next(theGen) == 1\n",
       "    Expecting nothing\n",
       "    **********************************************************************\n",
       "    Line 3, in q3 0\n",
       "    Failed example:\n",
       "        assert next(theGen) == 1\n",
       "    Exception raised:\n",
       "        Traceback (most recent call last):\n",
       "          File \"/home/lasse/anaconda3/lib/python3.11/doctest.py\", line 1353, in __run\n",
       "            exec(compile(example.source, filename, \"single\",\n",
       "          File \"<doctest q3 0[2]>\", line 1, in <module>\n",
       "            assert next(theGen) == 1\n",
       "                   ^^^^^^^^^^^^\n",
       "        TypeError: 'int' object is not an iterator\n",
       "    Trying:\n",
       "        assert next(theGen) == 9\n",
       "    Expecting nothing\n",
       "    **********************************************************************\n",
       "    Line 4, in q3 0\n",
       "    Failed example:\n",
       "        assert next(theGen) == 9\n",
       "    Exception raised:\n",
       "        Traceback (most recent call last):\n",
       "          File \"/home/lasse/anaconda3/lib/python3.11/doctest.py\", line 1353, in __run\n",
       "            exec(compile(example.source, filename, \"single\",\n",
       "          File \"<doctest q3 0[3]>\", line 1, in <module>\n",
       "            assert next(theGen) == 9\n",
       "                   ^^^^^^^^^^^^\n",
       "        TypeError: 'int' object is not an iterator\n",
       "    Trying:\n",
       "        assert next(theGen) == 25\n",
       "    Expecting nothing\n",
       "    **********************************************************************\n",
       "    Line 5, in q3 0\n",
       "    Failed example:\n",
       "        assert next(theGen) == 25\n",
       "    Exception raised:\n",
       "        Traceback (most recent call last):\n",
       "          File \"/home/lasse/anaconda3/lib/python3.11/doctest.py\", line 1353, in __run\n",
       "            exec(compile(example.source, filename, \"single\",\n",
       "          File \"<doctest q3 0[4]>\", line 1, in <module>\n",
       "            assert next(theGen) == 25\n",
       "                   ^^^^^^^^^^^^\n",
       "        TypeError: 'int' object is not an iterator\n",
       "    Trying:\n",
       "        assert next(theGen) == 49\n",
       "    Expecting nothing\n",
       "    **********************************************************************\n",
       "    Line 6, in q3 0\n",
       "    Failed example:\n",
       "        assert next(theGen) == 49\n",
       "    Exception raised:\n",
       "        Traceback (most recent call last):\n",
       "          File \"/home/lasse/anaconda3/lib/python3.11/doctest.py\", line 1353, in __run\n",
       "            exec(compile(example.source, filename, \"single\",\n",
       "          File \"<doctest q3 0[5]>\", line 1, in <module>\n",
       "            assert next(theGen) == 49\n",
       "                   ^^^^^^^^^^^^\n",
       "        TypeError: 'int' object is not an iterator\n",
       "    Trying:\n",
       "        assert next(theGen) == 81\n",
       "    Expecting nothing\n",
       "    **********************************************************************\n",
       "    Line 7, in q3 0\n",
       "    Failed example:\n",
       "        assert next(theGen) == 81\n",
       "    Exception raised:\n",
       "        Traceback (most recent call last):\n",
       "          File \"/home/lasse/anaconda3/lib/python3.11/doctest.py\", line 1353, in __run\n",
       "            exec(compile(example.source, filename, \"single\",\n",
       "          File \"<doctest q3 0[6]>\", line 1, in <module>\n",
       "            assert next(theGen) == 81\n",
       "                   ^^^^^^^^^^^^\n",
       "        TypeError: 'int' object is not an iterator\n",
       "    Trying:\n",
       "        assert next(theGen) == 121\n",
       "    Expecting nothing\n",
       "    **********************************************************************\n",
       "    Line 8, in q3 0\n",
       "    Failed example:\n",
       "        assert next(theGen) == 121\n",
       "    Exception raised:\n",
       "        Traceback (most recent call last):\n",
       "          File \"/home/lasse/anaconda3/lib/python3.11/doctest.py\", line 1353, in __run\n",
       "            exec(compile(example.source, filename, \"single\",\n",
       "          File \"<doctest q3 0[7]>\", line 1, in <module>\n",
       "            assert next(theGen) == 121\n",
       "                   ^^^^^^^^^^^^\n",
       "        TypeError: 'int' object is not an iterator\n",
       "    Trying:\n",
       "        del theGen\n",
       "    Expecting nothing\n",
       "    ok\n",
       "</pre>"
      ],
      "text/plain": [
       "q3 results:\n",
       "    q3 - 1 result:\n",
       "        ❌ Test case failed\n",
       "        Trying:\n",
       "            points: 4\n",
       "        Expecting nothing\n",
       "        ok\n",
       "        Trying:\n",
       "            theGen = odd_squares_sum(12)\n",
       "        Expecting nothing\n",
       "        ok\n",
       "        Trying:\n",
       "            assert next(theGen) == 1\n",
       "        Expecting nothing\n",
       "        **********************************************************************\n",
       "        Line 3, in q3 0\n",
       "        Failed example:\n",
       "            assert next(theGen) == 1\n",
       "        Exception raised:\n",
       "            Traceback (most recent call last):\n",
       "              File \"/home/lasse/anaconda3/lib/python3.11/doctest.py\", line 1353, in __run\n",
       "                exec(compile(example.source, filename, \"single\",\n",
       "              File \"<doctest q3 0[2]>\", line 1, in <module>\n",
       "                assert next(theGen) == 1\n",
       "                       ^^^^^^^^^^^^\n",
       "            TypeError: 'int' object is not an iterator\n",
       "        Trying:\n",
       "            assert next(theGen) == 9\n",
       "        Expecting nothing\n",
       "        **********************************************************************\n",
       "        Line 4, in q3 0\n",
       "        Failed example:\n",
       "            assert next(theGen) == 9\n",
       "        Exception raised:\n",
       "            Traceback (most recent call last):\n",
       "              File \"/home/lasse/anaconda3/lib/python3.11/doctest.py\", line 1353, in __run\n",
       "                exec(compile(example.source, filename, \"single\",\n",
       "              File \"<doctest q3 0[3]>\", line 1, in <module>\n",
       "                assert next(theGen) == 9\n",
       "                       ^^^^^^^^^^^^\n",
       "            TypeError: 'int' object is not an iterator\n",
       "        Trying:\n",
       "            assert next(theGen) == 25\n",
       "        Expecting nothing\n",
       "        **********************************************************************\n",
       "        Line 5, in q3 0\n",
       "        Failed example:\n",
       "            assert next(theGen) == 25\n",
       "        Exception raised:\n",
       "            Traceback (most recent call last):\n",
       "              File \"/home/lasse/anaconda3/lib/python3.11/doctest.py\", line 1353, in __run\n",
       "                exec(compile(example.source, filename, \"single\",\n",
       "              File \"<doctest q3 0[4]>\", line 1, in <module>\n",
       "                assert next(theGen) == 25\n",
       "                       ^^^^^^^^^^^^\n",
       "            TypeError: 'int' object is not an iterator\n",
       "        Trying:\n",
       "            assert next(theGen) == 49\n",
       "        Expecting nothing\n",
       "        **********************************************************************\n",
       "        Line 6, in q3 0\n",
       "        Failed example:\n",
       "            assert next(theGen) == 49\n",
       "        Exception raised:\n",
       "            Traceback (most recent call last):\n",
       "              File \"/home/lasse/anaconda3/lib/python3.11/doctest.py\", line 1353, in __run\n",
       "                exec(compile(example.source, filename, \"single\",\n",
       "              File \"<doctest q3 0[5]>\", line 1, in <module>\n",
       "                assert next(theGen) == 49\n",
       "                       ^^^^^^^^^^^^\n",
       "            TypeError: 'int' object is not an iterator\n",
       "        Trying:\n",
       "            assert next(theGen) == 81\n",
       "        Expecting nothing\n",
       "        **********************************************************************\n",
       "        Line 7, in q3 0\n",
       "        Failed example:\n",
       "            assert next(theGen) == 81\n",
       "        Exception raised:\n",
       "            Traceback (most recent call last):\n",
       "              File \"/home/lasse/anaconda3/lib/python3.11/doctest.py\", line 1353, in __run\n",
       "                exec(compile(example.source, filename, \"single\",\n",
       "              File \"<doctest q3 0[6]>\", line 1, in <module>\n",
       "                assert next(theGen) == 81\n",
       "                       ^^^^^^^^^^^^\n",
       "            TypeError: 'int' object is not an iterator\n",
       "        Trying:\n",
       "            assert next(theGen) == 121\n",
       "        Expecting nothing\n",
       "        **********************************************************************\n",
       "        Line 8, in q3 0\n",
       "        Failed example:\n",
       "            assert next(theGen) == 121\n",
       "        Exception raised:\n",
       "            Traceback (most recent call last):\n",
       "              File \"/home/lasse/anaconda3/lib/python3.11/doctest.py\", line 1353, in __run\n",
       "                exec(compile(example.source, filename, \"single\",\n",
       "              File \"<doctest q3 0[7]>\", line 1, in <module>\n",
       "                assert next(theGen) == 121\n",
       "                       ^^^^^^^^^^^^\n",
       "            TypeError: 'int' object is not an iterator\n",
       "        Trying:\n",
       "            del theGen\n",
       "        Expecting nothing\n",
       "        ok"
      ]
     },
     "execution_count": 30,
     "metadata": {},
     "output_type": "execute_result"
    }
   ],
   "source": [
    "grader.check(\"q3\")"
   ]
  },
  {
   "cell_type": "markdown",
   "metadata": {
    "deletable": false,
    "editable": false,
    "id": "hucvAvprJMn5"
   },
   "source": [
    "**Question 4:** Using the `odd_squares_sum` generator defined above, create a list of sum of squares up to a limit of $20$ and store the results in a numpy.array variable called `oddSumList`"
   ]
  },
  {
   "cell_type": "code",
   "execution_count": 32,
   "metadata": {
    "id": "wLHoBNERJMn5",
    "tags": []
   },
   "outputs": [
    {
     "data": {
      "text/plain": [
       "Ellipsis"
      ]
     },
     "execution_count": 32,
     "metadata": {},
     "output_type": "execute_result"
    }
   ],
   "source": [
    "..."
   ]
  },
  {
   "cell_type": "code",
   "execution_count": 33,
   "metadata": {
    "deletable": false,
    "editable": false,
    "id": "O2fs215YlWYv"
   },
   "outputs": [
    {
     "data": {
      "text/html": [
       "<p><strong style='color: red;'><pre style='display: inline;'>q4</pre> results:</strong></p><p><strong><pre style='display: inline;'>q4 - 1</pre> result:</strong></p><pre>    ❌ Test case failed\n",
       "    Trying:\n",
       "        points: 2\n",
       "    Expecting nothing\n",
       "    ok\n",
       "    Trying:\n",
       "        assert (oddSumList == np.array([1, 9, 25, 49, 81, 121, 169, 225, 289, 361])).all()\n",
       "    Expecting nothing\n",
       "    **********************************************************************\n",
       "    Line 2, in q4 0\n",
       "    Failed example:\n",
       "        assert (oddSumList == np.array([1, 9, 25, 49, 81, 121, 169, 225, 289, 361])).all()\n",
       "    Exception raised:\n",
       "        Traceback (most recent call last):\n",
       "          File \"/home/lasse/anaconda3/lib/python3.11/doctest.py\", line 1353, in __run\n",
       "            exec(compile(example.source, filename, \"single\",\n",
       "          File \"<doctest q4 0[1]>\", line 1, in <module>\n",
       "            assert (oddSumList == np.array([1, 9, 25, 49, 81, 121, 169, 225, 289, 361])).all()\n",
       "                    ^^^^^^^^^^\n",
       "        NameError: name 'oddSumList' is not defined\n",
       "</pre><p><strong><pre style='display: inline;'>q4 - 2</pre> result:</strong></p><pre>    ❌ Test case failed\n",
       "    Trying:\n",
       "        points: 2\n",
       "    Expecting nothing\n",
       "    ok\n",
       "    Trying:\n",
       "        assert isinstance(oddSumList, np.ndarray)\n",
       "    Expecting nothing\n",
       "    **********************************************************************\n",
       "    Line 2, in q4 1\n",
       "    Failed example:\n",
       "        assert isinstance(oddSumList, np.ndarray)\n",
       "    Exception raised:\n",
       "        Traceback (most recent call last):\n",
       "          File \"/home/lasse/anaconda3/lib/python3.11/doctest.py\", line 1353, in __run\n",
       "            exec(compile(example.source, filename, \"single\",\n",
       "          File \"<doctest q4 1[1]>\", line 1, in <module>\n",
       "            assert isinstance(oddSumList, np.ndarray)\n",
       "                              ^^^^^^^^^^\n",
       "        NameError: name 'oddSumList' is not defined\n",
       "</pre>"
      ],
      "text/plain": [
       "q4 results:\n",
       "    q4 - 1 result:\n",
       "        ❌ Test case failed\n",
       "        Trying:\n",
       "            points: 2\n",
       "        Expecting nothing\n",
       "        ok\n",
       "        Trying:\n",
       "            assert (oddSumList == np.array([1, 9, 25, 49, 81, 121, 169, 225, 289, 361])).all()\n",
       "        Expecting nothing\n",
       "        **********************************************************************\n",
       "        Line 2, in q4 0\n",
       "        Failed example:\n",
       "            assert (oddSumList == np.array([1, 9, 25, 49, 81, 121, 169, 225, 289, 361])).all()\n",
       "        Exception raised:\n",
       "            Traceback (most recent call last):\n",
       "              File \"/home/lasse/anaconda3/lib/python3.11/doctest.py\", line 1353, in __run\n",
       "                exec(compile(example.source, filename, \"single\",\n",
       "              File \"<doctest q4 0[1]>\", line 1, in <module>\n",
       "                assert (oddSumList == np.array([1, 9, 25, 49, 81, 121, 169, 225, 289, 361])).all()\n",
       "                        ^^^^^^^^^^\n",
       "            NameError: name 'oddSumList' is not defined\n",
       "\n",
       "    q4 - 2 result:\n",
       "        ❌ Test case failed\n",
       "        Trying:\n",
       "            points: 2\n",
       "        Expecting nothing\n",
       "        ok\n",
       "        Trying:\n",
       "            assert isinstance(oddSumList, np.ndarray)\n",
       "        Expecting nothing\n",
       "        **********************************************************************\n",
       "        Line 2, in q4 1\n",
       "        Failed example:\n",
       "            assert isinstance(oddSumList, np.ndarray)\n",
       "        Exception raised:\n",
       "            Traceback (most recent call last):\n",
       "              File \"/home/lasse/anaconda3/lib/python3.11/doctest.py\", line 1353, in __run\n",
       "                exec(compile(example.source, filename, \"single\",\n",
       "              File \"<doctest q4 1[1]>\", line 1, in <module>\n",
       "                assert isinstance(oddSumList, np.ndarray)\n",
       "                                  ^^^^^^^^^^\n",
       "            NameError: name 'oddSumList' is not defined"
      ]
     },
     "execution_count": 33,
     "metadata": {},
     "output_type": "execute_result"
    }
   ],
   "source": [
    "grader.check(\"q4\")"
   ]
  },
  {
   "cell_type": "markdown",
   "metadata": {
    "deletable": false,
    "editable": false,
    "id": "9PpnMsGpJMn5"
   },
   "source": [
    "**Question 5:** Compute the element-wise remainder of ``oddSumList`` when divided by $5$ and merge it with ``oddSumList``. The final output stored in the variable `mergedList` should be in the form of a list of tupples e.g ``[(1,1), (4,9), (0,25), ...]``"
   ]
  },
  {
   "cell_type": "code",
   "execution_count": 35,
   "metadata": {
    "id": "UDWWh3vQJMn5",
    "tags": []
   },
   "outputs": [
    {
     "data": {
      "text/plain": [
       "Ellipsis"
      ]
     },
     "execution_count": 35,
     "metadata": {},
     "output_type": "execute_result"
    }
   ],
   "source": [
    "..."
   ]
  },
  {
   "cell_type": "code",
   "execution_count": 36,
   "metadata": {
    "deletable": false,
    "editable": false,
    "id": "k_Xjmvz3lWYw"
   },
   "outputs": [
    {
     "data": {
      "text/html": [
       "<p><strong style='color: red;'><pre style='display: inline;'>q5</pre> results:</strong></p><p><strong><pre style='display: inline;'>q5 - 1</pre> result:</strong></p><pre>    ❌ Test case failed\n",
       "    Trying:\n",
       "        points: 2\n",
       "    Expecting nothing\n",
       "    ok\n",
       "    Trying:\n",
       "        assert mergedList == [(1, 1), (4, 9), (0, 25), (4, 49), (1, 81), (1, 121), (4, 169), (0, 225), (4, 289), (1, 361)]\n",
       "    Expecting nothing\n",
       "    **********************************************************************\n",
       "    Line 2, in q5 0\n",
       "    Failed example:\n",
       "        assert mergedList == [(1, 1), (4, 9), (0, 25), (4, 49), (1, 81), (1, 121), (4, 169), (0, 225), (4, 289), (1, 361)]\n",
       "    Exception raised:\n",
       "        Traceback (most recent call last):\n",
       "          File \"/home/lasse/anaconda3/lib/python3.11/doctest.py\", line 1353, in __run\n",
       "            exec(compile(example.source, filename, \"single\",\n",
       "          File \"<doctest q5 0[1]>\", line 1, in <module>\n",
       "            assert mergedList == [(1, 1), (4, 9), (0, 25), (4, 49), (1, 81), (1, 121), (4, 169), (0, 225), (4, 289), (1, 361)]\n",
       "                   ^^^^^^^^^^\n",
       "        NameError: name 'mergedList' is not defined\n",
       "</pre>"
      ],
      "text/plain": [
       "q5 results:\n",
       "    q5 - 1 result:\n",
       "        ❌ Test case failed\n",
       "        Trying:\n",
       "            points: 2\n",
       "        Expecting nothing\n",
       "        ok\n",
       "        Trying:\n",
       "            assert mergedList == [(1, 1), (4, 9), (0, 25), (4, 49), (1, 81), (1, 121), (4, 169), (0, 225), (4, 289), (1, 361)]\n",
       "        Expecting nothing\n",
       "        **********************************************************************\n",
       "        Line 2, in q5 0\n",
       "        Failed example:\n",
       "            assert mergedList == [(1, 1), (4, 9), (0, 25), (4, 49), (1, 81), (1, 121), (4, 169), (0, 225), (4, 289), (1, 361)]\n",
       "        Exception raised:\n",
       "            Traceback (most recent call last):\n",
       "              File \"/home/lasse/anaconda3/lib/python3.11/doctest.py\", line 1353, in __run\n",
       "                exec(compile(example.source, filename, \"single\",\n",
       "              File \"<doctest q5 0[1]>\", line 1, in <module>\n",
       "                assert mergedList == [(1, 1), (4, 9), (0, 25), (4, 49), (1, 81), (1, 121), (4, 169), (0, 225), (4, 289), (1, 361)]\n",
       "                       ^^^^^^^^^^\n",
       "            NameError: name 'mergedList' is not defined"
      ]
     },
     "execution_count": 36,
     "metadata": {},
     "output_type": "execute_result"
    }
   ],
   "source": [
    "grader.check(\"q5\")"
   ]
  },
  {
   "cell_type": "markdown",
   "metadata": {
    "deletable": false,
    "editable": false,
    "id": "Elpmq1BrlWYx"
   },
   "source": [
    "**Question 6:**  Write a function `greatest_common_divisor` that takes two inputs `a` and `b` and returns the greatest common divisor of the two numbers. E.g. input `(10, 15)` would return `5`"
   ]
  },
  {
   "cell_type": "code",
   "execution_count": 76,
   "metadata": {
    "id": "Nv669sgUlWYx",
    "tags": []
   },
   "outputs": [
    {
     "name": "stdout",
     "output_type": "stream",
     "text": [
      "5\n"
     ]
    }
   ],
   "source": [
    "def greatest_common_divisor(a, b):\n",
    "    while b:\n",
    "        a, b = b, a % b\n",
    "    return a\n",
    "\n",
    "# Example usage:\n",
    "print(greatest_common_divisor(10, 15))  # Output should be 5"
   ]
  },
  {
   "cell_type": "code",
   "execution_count": 82,
   "metadata": {
    "deletable": false,
    "editable": false,
    "id": "yfPxbTRvlWYx"
   },
   "outputs": [
    {
     "data": {
      "text/html": [
       "<p><strong><pre style='display: inline;'>q6</pre></strong> passed! 🚀</p>"
      ],
      "text/plain": [
       "q6 results: All test cases passed!"
      ]
     },
     "execution_count": 82,
     "metadata": {},
     "output_type": "execute_result"
    }
   ],
   "source": [
    "grader.check(\"q6\")"
   ]
  },
  {
   "cell_type": "markdown",
   "metadata": {
    "deletable": false,
    "editable": false,
    "id": "7y4uAEvTlWYx"
   },
   "source": [
    "**Question 7:**  Write a function `get_3_nearest` that takes in a point of interest ``pt`` and a **list** of points ``ptlist``  and returns a list of 3 nearest points from the point of interest ``pt``. Assume the distance between any two point is defined by the `L1-norm`."
   ]
  },
  {
   "cell_type": "code",
   "execution_count": 66,
   "metadata": {
    "id": "eVRG_iYKlWYy",
    "tags": []
   },
   "outputs": [
    {
     "name": "stdout",
     "output_type": "stream",
     "text": [
      "[(3, 3), (2, 3), (5, 5)]\n"
     ]
    }
   ],
   "source": [
    "def l1_distance(pt1, pt2):\n",
    "    return sum(abs(a - b) for a, b in zip(pt1, pt2))\n",
    "\n",
    "def get_3_nearest(pt, ptlist):\n",
    "    sorted_points = sorted(ptlist, key=lambda point: l1_distance(pt, point))\n",
    "    return sorted_points[:3]\n",
    "\n",
    "# Example usage:\n",
    "pt = (3, 4)\n",
    "ptlist = [(2, 3), (5, 5), (4, 6), (7, 2), (1, 1), (3, 3)]\n",
    "nearest_points = get_3_nearest(pt, ptlist)\n",
    "print(nearest_points)"
   ]
  },
  {
   "cell_type": "code",
   "execution_count": 84,
   "metadata": {
    "deletable": false,
    "editable": false,
    "id": "TJTLyKpblWYy"
   },
   "outputs": [
    {
     "data": {
      "text/html": [
       "<p><strong><pre style='display: inline;'>q7</pre></strong> passed! 🌟</p>"
      ],
      "text/plain": [
       "q7 results: All test cases passed!"
      ]
     },
     "execution_count": 84,
     "metadata": {},
     "output_type": "execute_result"
    }
   ],
   "source": [
    "grader.check(\"q7\")"
   ]
  },
  {
   "cell_type": "markdown",
   "metadata": {
    "deletable": false,
    "editable": false,
    "id": "Tv6dcD3glWYy"
   },
   "source": [
    "**Question 8:**  Write a function `diagonal_vector(M)` that returns a **numpy** array of the list of **absolute** values of the main diagonal entries in the matrix $M$"
   ]
  },
  {
   "cell_type": "code",
   "execution_count": 88,
   "metadata": {
    "id": "ypwKDudclWYy",
    "tags": []
   },
   "outputs": [
    {
     "name": "stdout",
     "output_type": "stream",
     "text": [
      "[1 5 9]\n"
     ]
    }
   ],
   "source": [
    "import numpy as np\n",
    "\n",
    "def diagonal_vector(M):\n",
    "    # Extract the main diagonal entries using np.diagonal\n",
    "    main_diagonal = np.diagonal(M)\n",
    "    # Compute the absolute values of the main diagonal entries\n",
    "    abs_diagonal = np.abs(main_diagonal)\n",
    "    return abs_diagonal\n",
    "\n",
    "# Example usage:\n",
    "M = np.array([[1, -2, 3], [-4, 5, -6], [7, -8, 9]])\n",
    "result = diagonal_vector(M)\n",
    "print(result)  # Output: [1 5 9]"
   ]
  },
  {
   "cell_type": "code",
   "execution_count": 90,
   "metadata": {
    "deletable": false,
    "editable": false,
    "id": "pNS5UGzhlWYz"
   },
   "outputs": [
    {
     "data": {
      "text/html": [
       "<p><strong><pre style='display: inline;'>q8</pre></strong> passed! 🎉</p>"
      ],
      "text/plain": [
       "q8 results: All test cases passed!"
      ]
     },
     "execution_count": 90,
     "metadata": {},
     "output_type": "execute_result"
    }
   ],
   "source": [
    "grader.check(\"q8\")"
   ]
  },
  {
   "cell_type": "markdown",
   "metadata": {
    "deletable": false,
    "editable": false,
    "id": "gswRlZmblWYz"
   },
   "source": [
    "**Question 9:**  Write a function `flatten_reverse_lists` that takes in a list of lists and outputs a **reverse** sorted list of elements of sublists of the input list (confusing right?) <br>\n",
    "Example: given `flatten_reverse_lists([[2,13,44], [6,7]])` it should return `[2,6,7,13,44]`"
   ]
  },
  {
   "cell_type": "code",
   "execution_count": 47,
   "metadata": {
    "id": "g14foUPZlWYz",
    "tags": []
   },
   "outputs": [],
   "source": [
    "def flatten_reverse_lists(superlist):\n",
    "    ..."
   ]
  },
  {
   "cell_type": "code",
   "execution_count": 48,
   "metadata": {
    "deletable": false,
    "editable": false,
    "id": "AXJgWszQlWY0"
   },
   "outputs": [
    {
     "data": {
      "text/html": [
       "<p><strong style='color: red;'><pre style='display: inline;'>q9</pre> results:</strong></p><p><strong><pre style='display: inline;'>q9 - 1</pre> result:</strong></p><pre>    ❌ Test case failed\n",
       "    Trying:\n",
       "        points: 1\n",
       "    Expecting nothing\n",
       "    ok\n",
       "    Trying:\n",
       "        np.testing.assert_equal(flatten_reverse_lists([[2, 13, 44], [6, 7]]), [44, 13, 7, 6, 2])\n",
       "    Expecting nothing\n",
       "    **********************************************************************\n",
       "    Line 2, in q9 0\n",
       "    Failed example:\n",
       "        np.testing.assert_equal(flatten_reverse_lists([[2, 13, 44], [6, 7]]), [44, 13, 7, 6, 2])\n",
       "    Exception raised:\n",
       "        Traceback (most recent call last):\n",
       "          File \"/home/lasse/anaconda3/lib/python3.11/doctest.py\", line 1353, in __run\n",
       "            exec(compile(example.source, filename, \"single\",\n",
       "          File \"<doctest q9 0[1]>\", line 1, in <module>\n",
       "            np.testing.assert_equal(flatten_reverse_lists([[2, 13, 44], [6, 7]]), [44, 13, 7, 6, 2])\n",
       "            ^^\n",
       "        NameError: name 'np' is not defined\n",
       "</pre><p><strong><pre style='display: inline;'>q9 - 2</pre> result:</strong></p><pre>    ❌ Test case failed\n",
       "    Trying:\n",
       "        points: 1\n",
       "    Expecting nothing\n",
       "    ok\n",
       "    Trying:\n",
       "        np.testing.assert_equal(flatten_reverse_lists([[2], [61, 34, 5, 8, 9]]), [61, 34, 9, 8, 5, 2])\n",
       "    Expecting nothing\n",
       "    **********************************************************************\n",
       "    Line 2, in q9 1\n",
       "    Failed example:\n",
       "        np.testing.assert_equal(flatten_reverse_lists([[2], [61, 34, 5, 8, 9]]), [61, 34, 9, 8, 5, 2])\n",
       "    Exception raised:\n",
       "        Traceback (most recent call last):\n",
       "          File \"/home/lasse/anaconda3/lib/python3.11/doctest.py\", line 1353, in __run\n",
       "            exec(compile(example.source, filename, \"single\",\n",
       "          File \"<doctest q9 1[1]>\", line 1, in <module>\n",
       "            np.testing.assert_equal(flatten_reverse_lists([[2], [61, 34, 5, 8, 9]]), [61, 34, 9, 8, 5, 2])\n",
       "            ^^\n",
       "        NameError: name 'np' is not defined\n",
       "</pre>"
      ],
      "text/plain": [
       "q9 results:\n",
       "    q9 - 1 result:\n",
       "        ❌ Test case failed\n",
       "        Trying:\n",
       "            points: 1\n",
       "        Expecting nothing\n",
       "        ok\n",
       "        Trying:\n",
       "            np.testing.assert_equal(flatten_reverse_lists([[2, 13, 44], [6, 7]]), [44, 13, 7, 6, 2])\n",
       "        Expecting nothing\n",
       "        **********************************************************************\n",
       "        Line 2, in q9 0\n",
       "        Failed example:\n",
       "            np.testing.assert_equal(flatten_reverse_lists([[2, 13, 44], [6, 7]]), [44, 13, 7, 6, 2])\n",
       "        Exception raised:\n",
       "            Traceback (most recent call last):\n",
       "              File \"/home/lasse/anaconda3/lib/python3.11/doctest.py\", line 1353, in __run\n",
       "                exec(compile(example.source, filename, \"single\",\n",
       "              File \"<doctest q9 0[1]>\", line 1, in <module>\n",
       "                np.testing.assert_equal(flatten_reverse_lists([[2, 13, 44], [6, 7]]), [44, 13, 7, 6, 2])\n",
       "                ^^\n",
       "            NameError: name 'np' is not defined\n",
       "\n",
       "    q9 - 2 result:\n",
       "        ❌ Test case failed\n",
       "        Trying:\n",
       "            points: 1\n",
       "        Expecting nothing\n",
       "        ok\n",
       "        Trying:\n",
       "            np.testing.assert_equal(flatten_reverse_lists([[2], [61, 34, 5, 8, 9]]), [61, 34, 9, 8, 5, 2])\n",
       "        Expecting nothing\n",
       "        **********************************************************************\n",
       "        Line 2, in q9 1\n",
       "        Failed example:\n",
       "            np.testing.assert_equal(flatten_reverse_lists([[2], [61, 34, 5, 8, 9]]), [61, 34, 9, 8, 5, 2])\n",
       "        Exception raised:\n",
       "            Traceback (most recent call last):\n",
       "              File \"/home/lasse/anaconda3/lib/python3.11/doctest.py\", line 1353, in __run\n",
       "                exec(compile(example.source, filename, \"single\",\n",
       "              File \"<doctest q9 1[1]>\", line 1, in <module>\n",
       "                np.testing.assert_equal(flatten_reverse_lists([[2], [61, 34, 5, 8, 9]]), [61, 34, 9, 8, 5, 2])\n",
       "                ^^\n",
       "            NameError: name 'np' is not defined"
      ]
     },
     "execution_count": 48,
     "metadata": {},
     "output_type": "execute_result"
    }
   ],
   "source": [
    "grader.check(\"q9\")"
   ]
  },
  {
   "cell_type": "markdown",
   "metadata": {
    "deletable": false,
    "editable": false,
    "id": "e5hEhB9DlWY0"
   },
   "source": [
    "**Question 9:** Create a DataFrame mirroring the table below and assign this to `data`.\n",
    "\n",
    "| flavor | scoops | price |\n",
    "|-----|-----|-----|\n",
    "| white chocolate | 1 | 2 |\n",
    "| vanilla | 1 | 1.5 |\n",
    "| dark chocolate | 2 | 3 |\n",
    "| strawberry | 1 | 2 |\n",
    "| strawberry | 3 | 4 |\n",
    "| vanilla | 2 | 2 |\n",
    "| mint | 1 | 4 |\n",
    "| mint | 2 | 5 |\n",
    "| white chocolate | 3 | 2 |\n",
    "| dark chocolate | 3 | 3 |\n",
    "| white chocolate | 2 | 2 |\n",
    "| dark chocolate | 5 | 3 |\n"
   ]
  },
  {
   "cell_type": "code",
   "execution_count": 50,
   "metadata": {
    "id": "t1Q9SHPqlWY0",
    "tags": []
   },
   "outputs": [],
   "source": [
    "data = ...\n"
   ]
  },
  {
   "cell_type": "markdown",
   "metadata": {
    "deletable": false,
    "editable": false,
    "id": "vCrDbFGJlWY1"
   },
   "source": [
    "**Question 10:** Do the following to the dataframe:\n",
    "* Create a new collumn ``total_price`` whose value is equal to $scoops * price$*\n",
    "* Write a function ``groupStatistics(data, groupValue)``. Internally, this function groups ``data``  by ``flavor`` and then returns statistics of a given grouped item ``groupValue`` indexed on the ``total_price`` columns. The statistics is a numpy array contains ``[mean, media, min, max, std]`` of the ``total_price`` column. The ``std`` should be rounded to 2 **decimal places**\n",
    "\n"
   ]
  },
  {
   "cell_type": "code",
   "execution_count": 52,
   "metadata": {
    "id": "JzlvoEnTlWY1",
    "tags": []
   },
   "outputs": [
    {
     "data": {
      "text/plain": [
       "Ellipsis"
      ]
     },
     "execution_count": 52,
     "metadata": {},
     "output_type": "execute_result"
    }
   ],
   "source": [
    "..."
   ]
  },
  {
   "cell_type": "code",
   "execution_count": 53,
   "metadata": {
    "deletable": false,
    "editable": false,
    "id": "j9S-jXqTlWY1"
   },
   "outputs": [
    {
     "data": {
      "text/html": [
       "<p><strong style='color: red;'><pre style='display: inline;'>q11</pre> results:</strong></p><p><strong><pre style='display: inline;'>q11 - 1</pre> result:</strong></p><pre>    ❌ Test case failed\n",
       "    Trying:\n",
       "        points: 1\n",
       "    Expecting nothing\n",
       "    ok\n",
       "    Trying:\n",
       "        np.testing.assert_array_equal(groupStatistics(data, 'strawberry'), [7.0, 7.0, 2.0, 7.07])\n",
       "    Expecting nothing\n",
       "    **********************************************************************\n",
       "    Line 2, in q11 0\n",
       "    Failed example:\n",
       "        np.testing.assert_array_equal(groupStatistics(data, 'strawberry'), [7.0, 7.0, 2.0, 7.07])\n",
       "    Exception raised:\n",
       "        Traceback (most recent call last):\n",
       "          File \"/home/lasse/anaconda3/lib/python3.11/doctest.py\", line 1353, in __run\n",
       "            exec(compile(example.source, filename, \"single\",\n",
       "          File \"<doctest q11 0[1]>\", line 1, in <module>\n",
       "            np.testing.assert_array_equal(groupStatistics(data, 'strawberry'), [7.0, 7.0, 2.0, 7.07])\n",
       "            ^^\n",
       "        NameError: name 'np' is not defined\n",
       "</pre><p><strong><pre style='display: inline;'>q11 - 2</pre> result:</strong></p><pre>    ❌ Test case failed\n",
       "    Trying:\n",
       "        points: 1\n",
       "    Expecting nothing\n",
       "    ok\n",
       "    Trying:\n",
       "        np.testing.assert_array_equal(groupStatistics(data, 'dark chocolate'), [10.0, 9.0, 6.0, 4.58])\n",
       "    Expecting nothing\n",
       "    **********************************************************************\n",
       "    Line 2, in q11 1\n",
       "    Failed example:\n",
       "        np.testing.assert_array_equal(groupStatistics(data, 'dark chocolate'), [10.0, 9.0, 6.0, 4.58])\n",
       "    Exception raised:\n",
       "        Traceback (most recent call last):\n",
       "          File \"/home/lasse/anaconda3/lib/python3.11/doctest.py\", line 1353, in __run\n",
       "            exec(compile(example.source, filename, \"single\",\n",
       "          File \"<doctest q11 1[1]>\", line 1, in <module>\n",
       "            np.testing.assert_array_equal(groupStatistics(data, 'dark chocolate'), [10.0, 9.0, 6.0, 4.58])\n",
       "            ^^\n",
       "        NameError: name 'np' is not defined\n",
       "</pre><p><strong><pre style='display: inline;'>q11 - 3</pre> result:</strong></p><pre>    ❌ Test case failed\n",
       "    Trying:\n",
       "        points: 1\n",
       "    Expecting nothing\n",
       "    ok\n",
       "    Trying:\n",
       "        np.testing.assert_array_equal(groupStatistics(data, 'white chocolate'), [4.0, 4.0, 2.0, 2.0])\n",
       "    Expecting nothing\n",
       "    **********************************************************************\n",
       "    Line 2, in q11 2\n",
       "    Failed example:\n",
       "        np.testing.assert_array_equal(groupStatistics(data, 'white chocolate'), [4.0, 4.0, 2.0, 2.0])\n",
       "    Exception raised:\n",
       "        Traceback (most recent call last):\n",
       "          File \"/home/lasse/anaconda3/lib/python3.11/doctest.py\", line 1353, in __run\n",
       "            exec(compile(example.source, filename, \"single\",\n",
       "          File \"<doctest q11 2[1]>\", line 1, in <module>\n",
       "            np.testing.assert_array_equal(groupStatistics(data, 'white chocolate'), [4.0, 4.0, 2.0, 2.0])\n",
       "            ^^\n",
       "        NameError: name 'np' is not defined\n",
       "</pre><p><strong><pre style='display: inline;'>q11 - 4</pre> result:</strong></p><pre>    ❌ Test case failed\n",
       "    Trying:\n",
       "        points: 1\n",
       "    Expecting nothing\n",
       "    ok\n",
       "    Trying:\n",
       "        np.testing.assert_array_equal(groupStatistics(data, 'vanilla'), [2.75, 2.75, 1.5, 1.77])\n",
       "    Expecting nothing\n",
       "    **********************************************************************\n",
       "    Line 2, in q11 3\n",
       "    Failed example:\n",
       "        np.testing.assert_array_equal(groupStatistics(data, 'vanilla'), [2.75, 2.75, 1.5, 1.77])\n",
       "    Exception raised:\n",
       "        Traceback (most recent call last):\n",
       "          File \"/home/lasse/anaconda3/lib/python3.11/doctest.py\", line 1353, in __run\n",
       "            exec(compile(example.source, filename, \"single\",\n",
       "          File \"<doctest q11 3[1]>\", line 1, in <module>\n",
       "            np.testing.assert_array_equal(groupStatistics(data, 'vanilla'), [2.75, 2.75, 1.5, 1.77])\n",
       "            ^^\n",
       "        NameError: name 'np' is not defined\n",
       "</pre><p><strong><pre style='display: inline;'>q11 - 5</pre> result:</strong></p><pre>    ❌ Test case failed\n",
       "    Trying:\n",
       "        points: 1\n",
       "    Expecting nothing\n",
       "    ok\n",
       "    Trying:\n",
       "        np.testing.assert_array_equal(groupStatistics(data, 'mint'), [7.0, 7.0, 4.0, 4.24])\n",
       "    Expecting nothing\n",
       "    **********************************************************************\n",
       "    Line 2, in q11 4\n",
       "    Failed example:\n",
       "        np.testing.assert_array_equal(groupStatistics(data, 'mint'), [7.0, 7.0, 4.0, 4.24])\n",
       "    Exception raised:\n",
       "        Traceback (most recent call last):\n",
       "          File \"/home/lasse/anaconda3/lib/python3.11/doctest.py\", line 1353, in __run\n",
       "            exec(compile(example.source, filename, \"single\",\n",
       "          File \"<doctest q11 4[1]>\", line 1, in <module>\n",
       "            np.testing.assert_array_equal(groupStatistics(data, 'mint'), [7.0, 7.0, 4.0, 4.24])\n",
       "            ^^\n",
       "        NameError: name 'np' is not defined\n",
       "</pre>"
      ],
      "text/plain": [
       "q11 results:\n",
       "    q11 - 1 result:\n",
       "        ❌ Test case failed\n",
       "        Trying:\n",
       "            points: 1\n",
       "        Expecting nothing\n",
       "        ok\n",
       "        Trying:\n",
       "            np.testing.assert_array_equal(groupStatistics(data, 'strawberry'), [7.0, 7.0, 2.0, 7.07])\n",
       "        Expecting nothing\n",
       "        **********************************************************************\n",
       "        Line 2, in q11 0\n",
       "        Failed example:\n",
       "            np.testing.assert_array_equal(groupStatistics(data, 'strawberry'), [7.0, 7.0, 2.0, 7.07])\n",
       "        Exception raised:\n",
       "            Traceback (most recent call last):\n",
       "              File \"/home/lasse/anaconda3/lib/python3.11/doctest.py\", line 1353, in __run\n",
       "                exec(compile(example.source, filename, \"single\",\n",
       "              File \"<doctest q11 0[1]>\", line 1, in <module>\n",
       "                np.testing.assert_array_equal(groupStatistics(data, 'strawberry'), [7.0, 7.0, 2.0, 7.07])\n",
       "                ^^\n",
       "            NameError: name 'np' is not defined\n",
       "\n",
       "    q11 - 2 result:\n",
       "        ❌ Test case failed\n",
       "        Trying:\n",
       "            points: 1\n",
       "        Expecting nothing\n",
       "        ok\n",
       "        Trying:\n",
       "            np.testing.assert_array_equal(groupStatistics(data, 'dark chocolate'), [10.0, 9.0, 6.0, 4.58])\n",
       "        Expecting nothing\n",
       "        **********************************************************************\n",
       "        Line 2, in q11 1\n",
       "        Failed example:\n",
       "            np.testing.assert_array_equal(groupStatistics(data, 'dark chocolate'), [10.0, 9.0, 6.0, 4.58])\n",
       "        Exception raised:\n",
       "            Traceback (most recent call last):\n",
       "              File \"/home/lasse/anaconda3/lib/python3.11/doctest.py\", line 1353, in __run\n",
       "                exec(compile(example.source, filename, \"single\",\n",
       "              File \"<doctest q11 1[1]>\", line 1, in <module>\n",
       "                np.testing.assert_array_equal(groupStatistics(data, 'dark chocolate'), [10.0, 9.0, 6.0, 4.58])\n",
       "                ^^\n",
       "            NameError: name 'np' is not defined\n",
       "\n",
       "    q11 - 3 result:\n",
       "        ❌ Test case failed\n",
       "        Trying:\n",
       "            points: 1\n",
       "        Expecting nothing\n",
       "        ok\n",
       "        Trying:\n",
       "            np.testing.assert_array_equal(groupStatistics(data, 'white chocolate'), [4.0, 4.0, 2.0, 2.0])\n",
       "        Expecting nothing\n",
       "        **********************************************************************\n",
       "        Line 2, in q11 2\n",
       "        Failed example:\n",
       "            np.testing.assert_array_equal(groupStatistics(data, 'white chocolate'), [4.0, 4.0, 2.0, 2.0])\n",
       "        Exception raised:\n",
       "            Traceback (most recent call last):\n",
       "              File \"/home/lasse/anaconda3/lib/python3.11/doctest.py\", line 1353, in __run\n",
       "                exec(compile(example.source, filename, \"single\",\n",
       "              File \"<doctest q11 2[1]>\", line 1, in <module>\n",
       "                np.testing.assert_array_equal(groupStatistics(data, 'white chocolate'), [4.0, 4.0, 2.0, 2.0])\n",
       "                ^^\n",
       "            NameError: name 'np' is not defined\n",
       "\n",
       "    q11 - 4 result:\n",
       "        ❌ Test case failed\n",
       "        Trying:\n",
       "            points: 1\n",
       "        Expecting nothing\n",
       "        ok\n",
       "        Trying:\n",
       "            np.testing.assert_array_equal(groupStatistics(data, 'vanilla'), [2.75, 2.75, 1.5, 1.77])\n",
       "        Expecting nothing\n",
       "        **********************************************************************\n",
       "        Line 2, in q11 3\n",
       "        Failed example:\n",
       "            np.testing.assert_array_equal(groupStatistics(data, 'vanilla'), [2.75, 2.75, 1.5, 1.77])\n",
       "        Exception raised:\n",
       "            Traceback (most recent call last):\n",
       "              File \"/home/lasse/anaconda3/lib/python3.11/doctest.py\", line 1353, in __run\n",
       "                exec(compile(example.source, filename, \"single\",\n",
       "              File \"<doctest q11 3[1]>\", line 1, in <module>\n",
       "                np.testing.assert_array_equal(groupStatistics(data, 'vanilla'), [2.75, 2.75, 1.5, 1.77])\n",
       "                ^^\n",
       "            NameError: name 'np' is not defined\n",
       "\n",
       "    q11 - 5 result:\n",
       "        ❌ Test case failed\n",
       "        Trying:\n",
       "            points: 1\n",
       "        Expecting nothing\n",
       "        ok\n",
       "        Trying:\n",
       "            np.testing.assert_array_equal(groupStatistics(data, 'mint'), [7.0, 7.0, 4.0, 4.24])\n",
       "        Expecting nothing\n",
       "        **********************************************************************\n",
       "        Line 2, in q11 4\n",
       "        Failed example:\n",
       "            np.testing.assert_array_equal(groupStatistics(data, 'mint'), [7.0, 7.0, 4.0, 4.24])\n",
       "        Exception raised:\n",
       "            Traceback (most recent call last):\n",
       "              File \"/home/lasse/anaconda3/lib/python3.11/doctest.py\", line 1353, in __run\n",
       "                exec(compile(example.source, filename, \"single\",\n",
       "              File \"<doctest q11 4[1]>\", line 1, in <module>\n",
       "                np.testing.assert_array_equal(groupStatistics(data, 'mint'), [7.0, 7.0, 4.0, 4.24])\n",
       "                ^^\n",
       "            NameError: name 'np' is not defined"
      ]
     },
     "execution_count": 53,
     "metadata": {},
     "output_type": "execute_result"
    }
   ],
   "source": [
    "grader.check(\"q11\")"
   ]
  },
  {
   "cell_type": "markdown",
   "metadata": {
    "deletable": false,
    "editable": false,
    "id": "cZpMZvKvlWY2"
   },
   "source": [
    "## Submission\n",
    "\n",
    "Make sure you have run all cells in your notebook in order before running the cell below, so that all images/graphs appear in the output. The cell below will generate a zip file for you to submit. **Please save before exporting!**\n",
    "\n",
    "Download the exported ZIP. Take note of the ZIP number and proceed to fill the summer school form"
   ]
  },
  {
   "cell_type": "code",
   "execution_count": 55,
   "metadata": {
    "deletable": false,
    "editable": false,
    "id": "f0WDkVsUlWY2"
   },
   "outputs": [
    {
     "data": {
      "text/html": [
       "\n",
       "                    <p>\n",
       "                        Your submission has been exported. Click\n",
       "                        <a href=\"Test_assign_2024_06_28T12_33_19_906216.zip\" download=\"Test_assign_2024_06_28T12_33_19_906216.zip\" target=\"_blank\">here</a> to download\n",
       "                        the zip file.\n",
       "                    </p>\n",
       "                "
      ],
      "text/plain": [
       "<IPython.core.display.HTML object>"
      ]
     },
     "metadata": {},
     "output_type": "display_data"
    }
   ],
   "source": [
    "# Save your notebook first, then run this cell to export your submission.\n",
    "grader.export(pdf=False)"
   ]
  },
  {
   "cell_type": "code",
   "execution_count": 56,
   "metadata": {},
   "outputs": [
    {
     "name": "stdout",
     "output_type": "stream",
     "text": [
      "Requirement already satisfied: otter-grader in /home/lasse/anaconda3/lib/python3.11/site-packages (5.5.0)\n",
      "Requirement already satisfied: dill in /home/lasse/anaconda3/lib/python3.11/site-packages (from otter-grader) (0.3.7)\n",
      "Requirement already satisfied: jinja2 in /home/lasse/anaconda3/lib/python3.11/site-packages (from otter-grader) (3.1.3)\n",
      "Requirement already satisfied: nbformat in /home/lasse/anaconda3/lib/python3.11/site-packages (from otter-grader) (5.9.2)\n",
      "Requirement already satisfied: pandas in /home/lasse/.local/lib/python3.11/site-packages (from otter-grader) (2.2.2)\n",
      "Requirement already satisfied: PyYAML in /home/lasse/anaconda3/lib/python3.11/site-packages (from otter-grader) (6.0.1)\n",
      "Requirement already satisfied: python-on-whales in /home/lasse/anaconda3/lib/python3.11/site-packages (from otter-grader) (0.71.0)\n",
      "Requirement already satisfied: requests in /home/lasse/anaconda3/lib/python3.11/site-packages (from otter-grader) (2.31.0)\n",
      "Requirement already satisfied: wrapt in /home/lasse/anaconda3/lib/python3.11/site-packages (from otter-grader) (1.14.1)\n",
      "Requirement already satisfied: jupytext in /home/lasse/anaconda3/lib/python3.11/site-packages (from otter-grader) (1.16.2)\n",
      "Requirement already satisfied: click in /home/lasse/anaconda3/lib/python3.11/site-packages (from otter-grader) (8.1.7)\n",
      "Requirement already satisfied: fica>=0.3.1 in /home/lasse/anaconda3/lib/python3.11/site-packages (from otter-grader) (0.3.1)\n",
      "Requirement already satisfied: ipython in /home/lasse/.local/lib/python3.11/site-packages (from otter-grader) (8.25.0)\n",
      "Requirement already satisfied: astunparse in /home/lasse/anaconda3/lib/python3.11/site-packages (from otter-grader) (1.6.3)\n",
      "Requirement already satisfied: ipywidgets in /home/lasse/anaconda3/lib/python3.11/site-packages (from otter-grader) (7.6.5)\n",
      "Requirement already satisfied: ipylab in /home/lasse/anaconda3/lib/python3.11/site-packages (from otter-grader) (1.0.0)\n",
      "Requirement already satisfied: nbconvert in /home/lasse/anaconda3/lib/python3.11/site-packages (from otter-grader) (7.10.0)\n",
      "Requirement already satisfied: docutils in /home/lasse/anaconda3/lib/python3.11/site-packages (from fica>=0.3.1->otter-grader) (0.18.1)\n",
      "Requirement already satisfied: sphinx in /home/lasse/anaconda3/lib/python3.11/site-packages (from fica>=0.3.1->otter-grader) (5.0.2)\n",
      "Requirement already satisfied: wheel<1.0,>=0.23.0 in /home/lasse/anaconda3/lib/python3.11/site-packages (from astunparse->otter-grader) (0.41.2)\n",
      "Requirement already satisfied: six<2.0,>=1.6.1 in /home/lasse/anaconda3/lib/python3.11/site-packages (from astunparse->otter-grader) (1.16.0)\n",
      "Requirement already satisfied: ipykernel>=4.5.1 in /home/lasse/.local/lib/python3.11/site-packages (from ipywidgets->otter-grader) (6.29.4)\n",
      "Requirement already satisfied: ipython-genutils~=0.2.0 in /home/lasse/anaconda3/lib/python3.11/site-packages (from ipywidgets->otter-grader) (0.2.0)\n",
      "Requirement already satisfied: traitlets>=4.3.1 in /home/lasse/.local/lib/python3.11/site-packages (from ipywidgets->otter-grader) (5.14.3)\n",
      "Requirement already satisfied: widgetsnbextension~=3.5.0 in /home/lasse/anaconda3/lib/python3.11/site-packages (from ipywidgets->otter-grader) (3.5.2)\n",
      "Requirement already satisfied: jupyterlab-widgets>=1.0.0 in /home/lasse/anaconda3/lib/python3.11/site-packages (from ipywidgets->otter-grader) (3.0.9)\n",
      "Requirement already satisfied: decorator in /home/lasse/.local/lib/python3.11/site-packages (from ipython->otter-grader) (5.1.1)\n",
      "Requirement already satisfied: jedi>=0.16 in /home/lasse/.local/lib/python3.11/site-packages (from ipython->otter-grader) (0.19.1)\n",
      "Requirement already satisfied: matplotlib-inline in /home/lasse/.local/lib/python3.11/site-packages (from ipython->otter-grader) (0.1.7)\n",
      "Requirement already satisfied: prompt-toolkit<3.1.0,>=3.0.41 in /home/lasse/.local/lib/python3.11/site-packages (from ipython->otter-grader) (3.0.47)\n",
      "Requirement already satisfied: pygments>=2.4.0 in /home/lasse/.local/lib/python3.11/site-packages (from ipython->otter-grader) (2.18.0)\n",
      "Requirement already satisfied: stack-data in /home/lasse/.local/lib/python3.11/site-packages (from ipython->otter-grader) (0.6.3)\n",
      "Requirement already satisfied: typing-extensions>=4.6 in /home/lasse/.local/lib/python3.11/site-packages (from ipython->otter-grader) (4.12.2)\n",
      "Requirement already satisfied: pexpect>4.3 in /home/lasse/anaconda3/lib/python3.11/site-packages (from ipython->otter-grader) (4.8.0)\n",
      "Requirement already satisfied: fastjsonschema in /home/lasse/anaconda3/lib/python3.11/site-packages (from nbformat->otter-grader) (2.16.2)\n",
      "Requirement already satisfied: jsonschema>=2.6 in /home/lasse/anaconda3/lib/python3.11/site-packages (from nbformat->otter-grader) (4.19.2)\n",
      "Requirement already satisfied: jupyter-core in /home/lasse/.local/lib/python3.11/site-packages (from nbformat->otter-grader) (5.7.2)\n",
      "Requirement already satisfied: MarkupSafe>=2.0 in /home/lasse/anaconda3/lib/python3.11/site-packages (from jinja2->otter-grader) (2.1.3)\n",
      "Requirement already satisfied: markdown-it-py>=1.0 in /home/lasse/anaconda3/lib/python3.11/site-packages (from jupytext->otter-grader) (2.2.0)\n",
      "Requirement already satisfied: mdit-py-plugins in /home/lasse/anaconda3/lib/python3.11/site-packages (from jupytext->otter-grader) (0.3.0)\n",
      "Requirement already satisfied: packaging in /home/lasse/anaconda3/lib/python3.11/site-packages (from jupytext->otter-grader) (23.1)\n",
      "Requirement already satisfied: beautifulsoup4 in /home/lasse/anaconda3/lib/python3.11/site-packages (from nbconvert->otter-grader) (4.12.2)\n",
      "Requirement already satisfied: bleach!=5.0.0 in /home/lasse/anaconda3/lib/python3.11/site-packages (from nbconvert->otter-grader) (4.1.0)\n",
      "Requirement already satisfied: defusedxml in /home/lasse/anaconda3/lib/python3.11/site-packages (from nbconvert->otter-grader) (0.7.1)\n",
      "Requirement already satisfied: jupyterlab-pygments in /home/lasse/anaconda3/lib/python3.11/site-packages (from nbconvert->otter-grader) (0.1.2)\n",
      "Requirement already satisfied: mistune<4,>=2.0.3 in /home/lasse/anaconda3/lib/python3.11/site-packages (from nbconvert->otter-grader) (2.0.4)\n",
      "Requirement already satisfied: nbclient>=0.5.0 in /home/lasse/anaconda3/lib/python3.11/site-packages (from nbconvert->otter-grader) (0.8.0)\n",
      "Requirement already satisfied: pandocfilters>=1.4.1 in /home/lasse/anaconda3/lib/python3.11/site-packages (from nbconvert->otter-grader) (1.5.0)\n",
      "Requirement already satisfied: tinycss2 in /home/lasse/anaconda3/lib/python3.11/site-packages (from nbconvert->otter-grader) (1.2.1)\n",
      "Requirement already satisfied: numpy>=1.23.2 in /home/lasse/.local/lib/python3.11/site-packages (from pandas->otter-grader) (2.0.0)\n",
      "Requirement already satisfied: python-dateutil>=2.8.2 in /home/lasse/anaconda3/lib/python3.11/site-packages (from pandas->otter-grader) (2.8.2)\n",
      "Requirement already satisfied: pytz>=2020.1 in /home/lasse/.local/lib/python3.11/site-packages (from pandas->otter-grader) (2024.1)\n",
      "Requirement already satisfied: tzdata>=2022.7 in /home/lasse/.local/lib/python3.11/site-packages (from pandas->otter-grader) (2024.1)\n",
      "Requirement already satisfied: pydantic!=2.0.*,<3,>=1.9 in /home/lasse/anaconda3/lib/python3.11/site-packages (from python-on-whales->otter-grader) (1.10.12)\n",
      "Requirement already satisfied: tqdm in /home/lasse/anaconda3/lib/python3.11/site-packages (from python-on-whales->otter-grader) (4.65.0)\n",
      "Requirement already satisfied: typer>=0.4.1 in /home/lasse/anaconda3/lib/python3.11/site-packages (from python-on-whales->otter-grader) (0.12.3)\n",
      "Requirement already satisfied: charset-normalizer<4,>=2 in /home/lasse/anaconda3/lib/python3.11/site-packages (from requests->otter-grader) (2.0.4)\n",
      "Requirement already satisfied: idna<4,>=2.5 in /home/lasse/anaconda3/lib/python3.11/site-packages (from requests->otter-grader) (3.4)\n",
      "Requirement already satisfied: urllib3<3,>=1.21.1 in /home/lasse/anaconda3/lib/python3.11/site-packages (from requests->otter-grader) (2.0.7)\n",
      "Requirement already satisfied: certifi>=2017.4.17 in /home/lasse/anaconda3/lib/python3.11/site-packages (from requests->otter-grader) (2024.6.2)\n",
      "Requirement already satisfied: webencodings in /home/lasse/anaconda3/lib/python3.11/site-packages (from bleach!=5.0.0->nbconvert->otter-grader) (0.5.1)\n",
      "Requirement already satisfied: comm>=0.1.1 in /home/lasse/.local/lib/python3.11/site-packages (from ipykernel>=4.5.1->ipywidgets->otter-grader) (0.2.2)\n",
      "Requirement already satisfied: debugpy>=1.6.5 in /home/lasse/.local/lib/python3.11/site-packages (from ipykernel>=4.5.1->ipywidgets->otter-grader) (1.8.1)\n",
      "Requirement already satisfied: jupyter-client>=6.1.12 in /home/lasse/.local/lib/python3.11/site-packages (from ipykernel>=4.5.1->ipywidgets->otter-grader) (8.6.2)\n",
      "Requirement already satisfied: nest-asyncio in /home/lasse/.local/lib/python3.11/site-packages (from ipykernel>=4.5.1->ipywidgets->otter-grader) (1.6.0)\n",
      "Requirement already satisfied: psutil in /home/lasse/.local/lib/python3.11/site-packages (from ipykernel>=4.5.1->ipywidgets->otter-grader) (6.0.0)\n",
      "Requirement already satisfied: pyzmq>=24 in /home/lasse/.local/lib/python3.11/site-packages (from ipykernel>=4.5.1->ipywidgets->otter-grader) (26.0.3)\n",
      "Requirement already satisfied: tornado>=6.1 in /home/lasse/.local/lib/python3.11/site-packages (from ipykernel>=4.5.1->ipywidgets->otter-grader) (6.4.1)\n",
      "Requirement already satisfied: parso<0.9.0,>=0.8.3 in /home/lasse/.local/lib/python3.11/site-packages (from jedi>=0.16->ipython->otter-grader) (0.8.4)\n",
      "Requirement already satisfied: attrs>=22.2.0 in /home/lasse/anaconda3/lib/python3.11/site-packages (from jsonschema>=2.6->nbformat->otter-grader) (23.1.0)\n",
      "Requirement already satisfied: jsonschema-specifications>=2023.03.6 in /home/lasse/anaconda3/lib/python3.11/site-packages (from jsonschema>=2.6->nbformat->otter-grader) (2023.7.1)\n",
      "Requirement already satisfied: referencing>=0.28.4 in /home/lasse/anaconda3/lib/python3.11/site-packages (from jsonschema>=2.6->nbformat->otter-grader) (0.30.2)\n",
      "Requirement already satisfied: rpds-py>=0.7.1 in /home/lasse/anaconda3/lib/python3.11/site-packages (from jsonschema>=2.6->nbformat->otter-grader) (0.10.6)\n",
      "Requirement already satisfied: platformdirs>=2.5 in /home/lasse/.local/lib/python3.11/site-packages (from jupyter-core->nbformat->otter-grader) (4.2.2)\n",
      "Requirement already satisfied: mdurl~=0.1 in /home/lasse/anaconda3/lib/python3.11/site-packages (from markdown-it-py>=1.0->jupytext->otter-grader) (0.1.0)\n",
      "Requirement already satisfied: ptyprocess>=0.5 in /home/lasse/anaconda3/lib/python3.11/site-packages (from pexpect>4.3->ipython->otter-grader) (0.7.0)\n",
      "Requirement already satisfied: wcwidth in /home/lasse/.local/lib/python3.11/site-packages (from prompt-toolkit<3.1.0,>=3.0.41->ipython->otter-grader) (0.2.13)\n",
      "Requirement already satisfied: shellingham>=1.3.0 in /home/lasse/anaconda3/lib/python3.11/site-packages (from typer>=0.4.1->python-on-whales->otter-grader) (1.5.4)\n",
      "Requirement already satisfied: rich>=10.11.0 in /home/lasse/anaconda3/lib/python3.11/site-packages (from typer>=0.4.1->python-on-whales->otter-grader) (13.3.5)\n",
      "Requirement already satisfied: notebook>=4.4.1 in /home/lasse/anaconda3/lib/python3.11/site-packages (from widgetsnbextension~=3.5.0->ipywidgets->otter-grader) (7.0.8)\n",
      "Requirement already satisfied: soupsieve>1.2 in /home/lasse/anaconda3/lib/python3.11/site-packages (from beautifulsoup4->nbconvert->otter-grader) (2.5)\n",
      "Requirement already satisfied: sphinxcontrib-applehelp in /home/lasse/anaconda3/lib/python3.11/site-packages (from sphinx->fica>=0.3.1->otter-grader) (1.0.2)\n",
      "Requirement already satisfied: sphinxcontrib-devhelp in /home/lasse/anaconda3/lib/python3.11/site-packages (from sphinx->fica>=0.3.1->otter-grader) (1.0.2)\n",
      "Requirement already satisfied: sphinxcontrib-jsmath in /home/lasse/anaconda3/lib/python3.11/site-packages (from sphinx->fica>=0.3.1->otter-grader) (1.0.1)\n",
      "Requirement already satisfied: sphinxcontrib-htmlhelp>=2.0.0 in /home/lasse/anaconda3/lib/python3.11/site-packages (from sphinx->fica>=0.3.1->otter-grader) (2.0.0)\n",
      "Requirement already satisfied: sphinxcontrib-serializinghtml>=1.1.5 in /home/lasse/anaconda3/lib/python3.11/site-packages (from sphinx->fica>=0.3.1->otter-grader) (1.1.5)\n",
      "Requirement already satisfied: sphinxcontrib-qthelp in /home/lasse/anaconda3/lib/python3.11/site-packages (from sphinx->fica>=0.3.1->otter-grader) (1.0.3)\n",
      "Requirement already satisfied: snowballstemmer>=1.1 in /home/lasse/anaconda3/lib/python3.11/site-packages (from sphinx->fica>=0.3.1->otter-grader) (2.2.0)\n",
      "Requirement already satisfied: babel>=1.3 in /home/lasse/anaconda3/lib/python3.11/site-packages (from sphinx->fica>=0.3.1->otter-grader) (2.11.0)\n",
      "Requirement already satisfied: alabaster<0.8,>=0.7 in /home/lasse/anaconda3/lib/python3.11/site-packages (from sphinx->fica>=0.3.1->otter-grader) (0.7.12)\n",
      "Requirement already satisfied: imagesize in /home/lasse/anaconda3/lib/python3.11/site-packages (from sphinx->fica>=0.3.1->otter-grader) (1.4.1)\n",
      "Requirement already satisfied: executing>=1.2.0 in /home/lasse/.local/lib/python3.11/site-packages (from stack-data->ipython->otter-grader) (2.0.1)\n",
      "Requirement already satisfied: asttokens>=2.1.0 in /home/lasse/.local/lib/python3.11/site-packages (from stack-data->ipython->otter-grader) (2.4.1)\n",
      "Requirement already satisfied: pure-eval in /home/lasse/.local/lib/python3.11/site-packages (from stack-data->ipython->otter-grader) (0.2.2)\n",
      "Requirement already satisfied: jupyter-server<3,>=2.4.0 in /home/lasse/anaconda3/lib/python3.11/site-packages (from notebook>=4.4.1->widgetsnbextension~=3.5.0->ipywidgets->otter-grader) (2.10.0)\n",
      "Requirement already satisfied: jupyterlab-server<3,>=2.22.1 in /home/lasse/anaconda3/lib/python3.11/site-packages (from notebook>=4.4.1->widgetsnbextension~=3.5.0->ipywidgets->otter-grader) (2.25.1)\n",
      "Requirement already satisfied: jupyterlab<4.1,>=4.0.2 in /home/lasse/anaconda3/lib/python3.11/site-packages (from notebook>=4.4.1->widgetsnbextension~=3.5.0->ipywidgets->otter-grader) (4.0.11)\n",
      "Requirement already satisfied: notebook-shim<0.3,>=0.2 in /home/lasse/anaconda3/lib/python3.11/site-packages (from notebook>=4.4.1->widgetsnbextension~=3.5.0->ipywidgets->otter-grader) (0.2.3)\n",
      "Requirement already satisfied: anyio>=3.1.0 in /home/lasse/anaconda3/lib/python3.11/site-packages (from jupyter-server<3,>=2.4.0->notebook>=4.4.1->widgetsnbextension~=3.5.0->ipywidgets->otter-grader) (4.2.0)\n",
      "Requirement already satisfied: argon2-cffi in /home/lasse/anaconda3/lib/python3.11/site-packages (from jupyter-server<3,>=2.4.0->notebook>=4.4.1->widgetsnbextension~=3.5.0->ipywidgets->otter-grader) (21.3.0)\n",
      "Requirement already satisfied: jupyter-events>=0.6.0 in /home/lasse/anaconda3/lib/python3.11/site-packages (from jupyter-server<3,>=2.4.0->notebook>=4.4.1->widgetsnbextension~=3.5.0->ipywidgets->otter-grader) (0.8.0)\n",
      "Requirement already satisfied: jupyter-server-terminals in /home/lasse/anaconda3/lib/python3.11/site-packages (from jupyter-server<3,>=2.4.0->notebook>=4.4.1->widgetsnbextension~=3.5.0->ipywidgets->otter-grader) (0.4.4)\n",
      "Requirement already satisfied: overrides in /home/lasse/anaconda3/lib/python3.11/site-packages (from jupyter-server<3,>=2.4.0->notebook>=4.4.1->widgetsnbextension~=3.5.0->ipywidgets->otter-grader) (7.4.0)\n",
      "Requirement already satisfied: prometheus-client in /home/lasse/anaconda3/lib/python3.11/site-packages (from jupyter-server<3,>=2.4.0->notebook>=4.4.1->widgetsnbextension~=3.5.0->ipywidgets->otter-grader) (0.14.1)\n",
      "Requirement already satisfied: send2trash>=1.8.2 in /home/lasse/anaconda3/lib/python3.11/site-packages (from jupyter-server<3,>=2.4.0->notebook>=4.4.1->widgetsnbextension~=3.5.0->ipywidgets->otter-grader) (1.8.2)\n",
      "Requirement already satisfied: terminado>=0.8.3 in /home/lasse/anaconda3/lib/python3.11/site-packages (from jupyter-server<3,>=2.4.0->notebook>=4.4.1->widgetsnbextension~=3.5.0->ipywidgets->otter-grader) (0.17.1)\n",
      "Requirement already satisfied: websocket-client in /home/lasse/anaconda3/lib/python3.11/site-packages (from jupyter-server<3,>=2.4.0->notebook>=4.4.1->widgetsnbextension~=3.5.0->ipywidgets->otter-grader) (0.58.0)\n",
      "Requirement already satisfied: async-lru>=1.0.0 in /home/lasse/anaconda3/lib/python3.11/site-packages (from jupyterlab<4.1,>=4.0.2->notebook>=4.4.1->widgetsnbextension~=3.5.0->ipywidgets->otter-grader) (2.0.4)\n",
      "Requirement already satisfied: jupyter-lsp>=2.0.0 in /home/lasse/anaconda3/lib/python3.11/site-packages (from jupyterlab<4.1,>=4.0.2->notebook>=4.4.1->widgetsnbextension~=3.5.0->ipywidgets->otter-grader) (2.2.0)\n",
      "Requirement already satisfied: json5>=0.9.0 in /home/lasse/anaconda3/lib/python3.11/site-packages (from jupyterlab-server<3,>=2.22.1->notebook>=4.4.1->widgetsnbextension~=3.5.0->ipywidgets->otter-grader) (0.9.6)\n",
      "Requirement already satisfied: sniffio>=1.1 in /home/lasse/anaconda3/lib/python3.11/site-packages (from anyio>=3.1.0->jupyter-server<3,>=2.4.0->notebook>=4.4.1->widgetsnbextension~=3.5.0->ipywidgets->otter-grader) (1.3.0)\n",
      "Requirement already satisfied: python-json-logger>=2.0.4 in /home/lasse/anaconda3/lib/python3.11/site-packages (from jupyter-events>=0.6.0->jupyter-server<3,>=2.4.0->notebook>=4.4.1->widgetsnbextension~=3.5.0->ipywidgets->otter-grader) (2.0.7)\n",
      "Requirement already satisfied: rfc3339-validator in /home/lasse/anaconda3/lib/python3.11/site-packages (from jupyter-events>=0.6.0->jupyter-server<3,>=2.4.0->notebook>=4.4.1->widgetsnbextension~=3.5.0->ipywidgets->otter-grader) (0.1.4)\n",
      "Requirement already satisfied: rfc3986-validator>=0.1.1 in /home/lasse/anaconda3/lib/python3.11/site-packages (from jupyter-events>=0.6.0->jupyter-server<3,>=2.4.0->notebook>=4.4.1->widgetsnbextension~=3.5.0->ipywidgets->otter-grader) (0.1.1)\n",
      "Requirement already satisfied: argon2-cffi-bindings in /home/lasse/anaconda3/lib/python3.11/site-packages (from argon2-cffi->jupyter-server<3,>=2.4.0->notebook>=4.4.1->widgetsnbextension~=3.5.0->ipywidgets->otter-grader) (21.2.0)\n",
      "Requirement already satisfied: fqdn in /home/lasse/anaconda3/lib/python3.11/site-packages (from jsonschema[format-nongpl]>=4.18.0->jupyter-events>=0.6.0->jupyter-server<3,>=2.4.0->notebook>=4.4.1->widgetsnbextension~=3.5.0->ipywidgets->otter-grader) (1.5.1)\n",
      "Requirement already satisfied: isoduration in /home/lasse/anaconda3/lib/python3.11/site-packages (from jsonschema[format-nongpl]>=4.18.0->jupyter-events>=0.6.0->jupyter-server<3,>=2.4.0->notebook>=4.4.1->widgetsnbextension~=3.5.0->ipywidgets->otter-grader) (20.11.0)\n",
      "Requirement already satisfied: jsonpointer>1.13 in /home/lasse/anaconda3/lib/python3.11/site-packages (from jsonschema[format-nongpl]>=4.18.0->jupyter-events>=0.6.0->jupyter-server<3,>=2.4.0->notebook>=4.4.1->widgetsnbextension~=3.5.0->ipywidgets->otter-grader) (2.1)\n",
      "Requirement already satisfied: uri-template in /home/lasse/anaconda3/lib/python3.11/site-packages (from jsonschema[format-nongpl]>=4.18.0->jupyter-events>=0.6.0->jupyter-server<3,>=2.4.0->notebook>=4.4.1->widgetsnbextension~=3.5.0->ipywidgets->otter-grader) (1.3.0)\n",
      "Requirement already satisfied: webcolors>=1.11 in /home/lasse/anaconda3/lib/python3.11/site-packages (from jsonschema[format-nongpl]>=4.18.0->jupyter-events>=0.6.0->jupyter-server<3,>=2.4.0->notebook>=4.4.1->widgetsnbextension~=3.5.0->ipywidgets->otter-grader) (24.6.0)\n",
      "Requirement already satisfied: cffi>=1.0.1 in /home/lasse/anaconda3/lib/python3.11/site-packages (from argon2-cffi-bindings->argon2-cffi->jupyter-server<3,>=2.4.0->notebook>=4.4.1->widgetsnbextension~=3.5.0->ipywidgets->otter-grader) (1.16.0)\n",
      "Requirement already satisfied: pycparser in /home/lasse/anaconda3/lib/python3.11/site-packages (from cffi>=1.0.1->argon2-cffi-bindings->argon2-cffi->jupyter-server<3,>=2.4.0->notebook>=4.4.1->widgetsnbextension~=3.5.0->ipywidgets->otter-grader) (2.21)\n",
      "Requirement already satisfied: arrow>=0.15.0 in /home/lasse/anaconda3/lib/python3.11/site-packages (from isoduration->jsonschema[format-nongpl]>=4.18.0->jupyter-events>=0.6.0->jupyter-server<3,>=2.4.0->notebook>=4.4.1->widgetsnbextension~=3.5.0->ipywidgets->otter-grader) (1.2.3)\n"
     ]
    }
   ],
   "source": [
    "!pip install otter-grader"
   ]
  },
  {
   "cell_type": "code",
   "execution_count": 57,
   "metadata": {},
   "outputs": [
    {
     "name": "stdout",
     "output_type": "stream",
     "text": [
      "Requirement already satisfied: pip in /home/lasse/.local/lib/python3.11/site-packages (24.1.1)\n"
     ]
    }
   ],
   "source": [
    "!pip install --upgrade pip"
   ]
  },
  {
   "cell_type": "markdown",
   "metadata": {
    "id": "KjEBf1KPlWY2"
   },
   "source": []
  },
  {
   "cell_type": "code",
   "execution_count": 59,
   "metadata": {},
   "outputs": [
    {
     "name": "stdout",
     "output_type": "stream",
     "text": [
      "5.5.0\n"
     ]
    }
   ],
   "source": [
    "import otter \n",
    "print(otter.__version__)"
   ]
  },
  {
   "cell_type": "code",
   "execution_count": null,
   "metadata": {},
   "outputs": [],
   "source": []
  }
 ],
 "metadata": {
  "colab": {
   "provenance": []
  },
  "kernelspec": {
   "display_name": "Python 3 (ipykernel)",
   "language": "python",
   "name": "python3"
  },
  "language_info": {
   "codemirror_mode": {
    "name": "ipython",
    "version": 3
   },
   "file_extension": ".py",
   "mimetype": "text/x-python",
   "name": "python",
   "nbconvert_exporter": "python",
   "pygments_lexer": "ipython3",
   "version": "3.11.7"
  },
  "otter": {
   "OK_FORMAT": true,
   "tests": {
    "q1": {
     "name": "q1",
     "points": 4,
     "suites": [
      {
       "cases": [
        {
         "code": ">>> points: 1\n>>> \n>>> def test_isValid(isValid):\n...     assert isValid('{[()]}}') == False\n>>> test_isValid(isValid)\n",
         "hidden": false,
         "locked": false
        },
        {
         "code": ">>> points: 1\n>>> \n>>> def test_isValid(isValid):\n...     assert isValid('') == True\n>>> test_isValid(isValid)\n",
         "hidden": false,
         "locked": false
        },
        {
         "code": ">>> points: 1\n>>> \n>>> def test_isValid(isValid):\n...     assert isValid('(){}[]') == True\n>>> test_isValid(isValid)\n",
         "hidden": false,
         "locked": false
        }
       ],
       "scored": true,
       "setup": "",
       "teardown": "",
       "type": "doctest"
      }
     ]
    },
    "q11": {
     "name": "q11",
     "points": 5,
     "suites": [
      {
       "cases": [
        {
         "code": ">>> points: 1\n>>> np.testing.assert_array_equal(groupStatistics(data, 'strawberry'), [7.0, 7.0, 2.0, 7.07])\n",
         "hidden": false,
         "locked": false
        },
        {
         "code": ">>> points: 1\n>>> np.testing.assert_array_equal(groupStatistics(data, 'dark chocolate'), [10.0, 9.0, 6.0, 4.58])\n",
         "hidden": false,
         "locked": false
        },
        {
         "code": ">>> points: 1\n>>> np.testing.assert_array_equal(groupStatistics(data, 'white chocolate'), [4.0, 4.0, 2.0, 2.0])\n",
         "hidden": false,
         "locked": false
        },
        {
         "code": ">>> points: 1\n>>> np.testing.assert_array_equal(groupStatistics(data, 'vanilla'), [2.75, 2.75, 1.5, 1.77])\n",
         "hidden": false,
         "locked": false
        },
        {
         "code": ">>> points: 1\n>>> np.testing.assert_array_equal(groupStatistics(data, 'mint'), [7.0, 7.0, 4.0, 4.24])\n",
         "hidden": false,
         "locked": false
        }
       ],
       "scored": true,
       "setup": "",
       "teardown": "",
       "type": "doctest"
      }
     ]
    },
    "q2": {
     "name": "q2",
     "points": 4,
     "suites": [
      {
       "cases": [
        {
         "code": ">>> points: 1\n>>> \n>>> def test_oddFrequencyCounter(oddFrequencyCounter):\n...     paragraph = 'DSA 2024 Nyeri'\n...     assert oddFrequencyCounter(paragraph) == 10\n",
         "hidden": false,
         "locked": false
        },
        {
         "code": ">>> points: 1\n>>> \n>>> def test_oddFrequencyCounter(oddFrequencyCounter):\n...     paragraph = \"The following is sample text I used to practice special characters using keybr.com: 112233445566778899 Saturn V rocket's first stage carries 203,400 gallons (770,000 liters) of kerosene fuel and 318,000 gallons (1.2 million liters) of liquid oxygen needed for combustion. At liftoff, the stage's five F-1 rocket engines ignite and produce 7.5 million pounds of thrust. To replace those goofy quantities with the far less retarded metric system (even though liters are considered part of the metric system they are the same as cubic deci-meters) you would say 770 cubic meters of kerosene {abbreviated as m3} and 1,204 m3 of liquid O2 [O2 is the symbol for oxygen]. We would also say it produced 33,600,000 newtons of force <abbreviated as N>. To add scientific notation {a way of writing numbers that allows you to write only as many digits of specificity as you would like} you can write 7.7 * 10 ^ 2 m3 of kerosene 1.204 * 10 ^ 3 m3 of O2 and 3.3 * 10 ^ 7 newtons.\"\n...     assert oddFrequencyCounter(paragraph) == 40\n",
         "hidden": false,
         "locked": false
        },
        {
         "code": ">>> points: 1\n>>> \n>>> def test_oddFrequencyCounter(oddFrequencyCounter):\n...     paragraph = 'Data Science Africa in collaboration with The Swiss Federal Department of Foreign Affairs (FDFA), ETH Zurich, EPFL, the European Laboratory for Learning and Intelligent Systems (ELLIS), the Swiss National Computing Centre (CSCS), and the LUMI consortium launched the International Computation and AI Network (ICAIN) at the World Economic Forum (WEF) 2024 in Davos. Its mission is to develop AI technologies that benefit society as a whole, as well as being accessible to all and sustainable, thereby helping to reduce global inequality.'\n...     assert oddFrequencyCounter(paragraph) == 20\n",
         "hidden": false,
         "locked": false
        }
       ],
       "scored": true,
       "setup": "",
       "teardown": "",
       "type": "doctest"
      }
     ]
    },
    "q3": {
     "name": "q3",
     "points": 4,
     "suites": [
      {
       "cases": [
        {
         "code": ">>> points: 4\n>>> theGen = odd_squares_sum(12)\n>>> assert next(theGen) == 1\n>>> assert next(theGen) == 9\n>>> assert next(theGen) == 25\n>>> assert next(theGen) == 49\n>>> assert next(theGen) == 81\n>>> assert next(theGen) == 121\n>>> del theGen\n",
         "hidden": false,
         "locked": false
        }
       ],
       "scored": true,
       "setup": "",
       "teardown": "",
       "type": "doctest"
      }
     ]
    },
    "q4": {
     "name": "q4",
     "points": 4,
     "suites": [
      {
       "cases": [
        {
         "code": ">>> points: 2\n>>> assert (oddSumList == np.array([1, 9, 25, 49, 81, 121, 169, 225, 289, 361])).all()\n",
         "hidden": false,
         "locked": false
        },
        {
         "code": ">>> points: 2\n>>> assert isinstance(oddSumList, np.ndarray)\n",
         "hidden": false,
         "locked": false
        }
       ],
       "scored": true,
       "setup": "",
       "teardown": "",
       "type": "doctest"
      }
     ]
    },
    "q5": {
     "name": "q5",
     "points": 2,
     "suites": [
      {
       "cases": [
        {
         "code": ">>> points: 2\n>>> assert mergedList == [(1, 1), (4, 9), (0, 25), (4, 49), (1, 81), (1, 121), (4, 169), (0, 225), (4, 289), (1, 361)]\n",
         "hidden": false,
         "locked": false
        }
       ],
       "scored": true,
       "setup": "",
       "teardown": "",
       "type": "doctest"
      }
     ]
    },
    "q6": {
     "name": "q6",
     "points": 5,
     "suites": [
      {
       "cases": [
        {
         "code": ">>> points: 1\n>>> np.testing.assert_equal(greatest_common_divisor(10, 15), 5)\n",
         "hidden": false,
         "locked": false
        },
        {
         "code": ">>> points: 1\n>>> np.testing.assert_equal(greatest_common_divisor(15, 19), 1)\n",
         "hidden": false,
         "locked": false
        },
        {
         "code": ">>> points: 1\n>>> np.testing.assert_equal(greatest_common_divisor(100, 105), 5)\n",
         "hidden": false,
         "locked": false
        }
       ],
       "scored": true,
       "setup": "",
       "teardown": "",
       "type": "doctest"
      }
     ]
    },
    "q7": {
     "name": "q7",
     "points": 8,
     "suites": [
      {
       "cases": [
        {
         "code": ">>> points: 2\n>>> np.testing.assert_equal(get_3_nearest((3, 8), [(9, 3), (8, 5), (7, 6)]), [(7, 6), (8, 5), (9, 3)])\n",
         "hidden": false,
         "locked": false
        },
        {
         "code": ">>> points: 2\n>>> np.testing.assert_equal(get_3_nearest((12, 8), [(5, 9), (9, 1), (2, 4), (13, 9), (10, 12)]), [(13, 9), (10, 12), (5, 9)])\n",
         "hidden": false,
         "locked": false
        },
        {
         "code": ">>> points: 2\n>>> np.testing.assert_equal(get_3_nearest((5, 8), [(5, 9), (9, 1), (2, 4), (13, 9), (10, 12)]), [(5, 9), (2, 4), (13, 9)])\n",
         "hidden": false,
         "locked": false
        }
       ],
       "scored": true,
       "setup": "",
       "teardown": "",
       "type": "doctest"
      }
     ]
    },
    "q8": {
     "name": "q8",
     "points": 4,
     "suites": [
      {
       "cases": [
        {
         "code": ">>> points: 2\n>>> np.testing.assert_array_equal(diagonal_vector([[1, 2, 3, 4, 5, 6, 7, 8], [9, 10, 11, 12, 13, 14, 15, 16], [17, 18, 19, 20, 21, 22, 23, 24], [25, 26, 27, 28, 29, 30, 31, 32], [33, 34, 35, 36, 37, 38, 39, 40], [41, 42, 43, 44, 45, 46, 47, 48], [49, 50, 51, 52, 53, 54, 55, 56], [57, 58, 59, 60, 61, 62, 63, 64]]), [1, 10, 19, 28, 37, 46, 55, 64])\n",
         "hidden": false,
         "locked": false
        },
        {
         "code": ">>> points: 2\n>>> assert isinstance(diagonal_vector([[1, 2], [3, 4]]), np.ndarray)\n",
         "hidden": false,
         "locked": false
        }
       ],
       "scored": true,
       "setup": "",
       "teardown": "",
       "type": "doctest"
      }
     ]
    },
    "q9": {
     "name": "q9",
     "points": 3,
     "suites": [
      {
       "cases": [
        {
         "code": ">>> points: 1\n>>> np.testing.assert_equal(flatten_reverse_lists([[2, 13, 44], [6, 7]]), [44, 13, 7, 6, 2])\n",
         "hidden": false,
         "locked": false
        },
        {
         "code": ">>> points: 1\n>>> np.testing.assert_equal(flatten_reverse_lists([[2], [61, 34, 5, 8, 9]]), [61, 34, 9, 8, 5, 2])\n",
         "hidden": false,
         "locked": false
        }
       ],
       "scored": true,
       "setup": "",
       "teardown": "",
       "type": "doctest"
      }
     ]
    }
   }
  },
  "varInspector": {
   "cols": {
    "lenName": 16,
    "lenType": 16,
    "lenVar": 40
   },
   "kernels_config": {
    "python": {
     "delete_cmd_postfix": "",
     "delete_cmd_prefix": "del ",
     "library": "var_list.py",
     "varRefreshCmd": "print(var_dic_list())"
    },
    "r": {
     "delete_cmd_postfix": ") ",
     "delete_cmd_prefix": "rm(",
     "library": "var_list.r",
     "varRefreshCmd": "cat(var_dic_list()) "
    }
   },
   "types_to_exclude": [
    "module",
    "function",
    "builtin_function_or_method",
    "instance",
    "_Feature"
   ],
   "window_display": false
  }
 },
 "nbformat": 4,
 "nbformat_minor": 4
}
